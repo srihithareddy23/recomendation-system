{
 "cells": [
  {
   "cell_type": "markdown",
   "metadata": {
    "colab_type": "text",
    "id": "view-in-github"
   },
   "source": [
    "<a href=\"https://colab.research.google.com/github/Lawrence-Krukrubo/Building-a-Content-Based-Movie-Recommender-System/blob/master/building_a_content_based_recommendation_system.ipynb\" target=\"_parent\"><img src=\"https://colab.research.google.com/assets/colab-badge.svg\" alt=\"Open In Colab\"/></a>"
   ]
  },
  {
   "cell_type": "markdown",
   "metadata": {
    "colab_type": "text",
    "id": "u1Xr-Ev-Ldpx"
   },
   "source": [
    "<h1 align=\"center\"><font size=\"5\">CONTENT-BASED FILTERING</font></h1>"
   ]
  },
  {
   "cell_type": "markdown",
   "metadata": {
    "colab_type": "text",
    "id": "3bK2qUtpLj5M"
   },
   "source": [
    "Recommendation systems are a collection of algorithms used to recommend items to users based on information taken from the user. These systems have become ubiquitous, and can be commonly seen in online stores, movies databases and job finders. In this notebook, we will explore Content-based recommendation systems and implement a simple version of one using Python and the Pandas library."
   ]
  },
  {
   "cell_type": "code",
   "execution_count": 3,
   "metadata": {
    "colab": {},
    "colab_type": "code",
    "id": "YXrPt-PknWLR"
   },
   "outputs": [],
   "source": [
    "# For creating and manipulating structured tabular data\n",
    "import pandas as pd"
   ]
  },
  {
   "cell_type": "markdown",
   "metadata": {
    "colab_type": "text",
    "id": "HXGYyI7jhB19"
   },
   "source": [
    "Let's set maximum rows to be displayed at any time to not more than 20"
   ]
  },
  {
   "cell_type": "code",
   "execution_count": 4,
   "metadata": {
    "colab": {},
    "colab_type": "code",
    "id": "HhA5Hq8Z01TL"
   },
   "outputs": [],
   "source": [
    "pd.set_option('max_rows', 20)"
   ]
  },
  {
   "cell_type": "markdown",
   "metadata": {
    "colab_type": "text",
    "id": "IhX7MtnLmlth"
   },
   "source": [
    "### Saving the raw files from github\n",
    "\n",
    "Both files have been saved in raw .csv format in  the code cell below, but if you want to download directly from the website, click this [link](https://grouplens.org/datasets/movielens/) and <br>\n",
    "Select the file name 'ml-latest-small.zip (size: 1 MB)'"
   ]
  },
  {
   "cell_type": "code",
   "execution_count": 5,
   "metadata": {
    "colab": {},
    "colab_type": "code",
    "id": "gFZuXp8hf08p"
   },
   "outputs": [],
   "source": [
    "grocery_data = 'C:/Users/snigdha/Desktop/movierec/Building-a-Content-Based-Movie-Recommender-System/grocery.csv'\n",
    "history_data='C:/Users/snigdha/Desktop/movierec/Building-a-Content-Based-Movie-Recommender-System/history.csv'\n"
   ]
  },
  {
   "cell_type": "markdown",
   "metadata": {
    "colab_type": "text",
    "id": "FIc8dBC6msuC"
   },
   "source": [
    "### Defining additional NaN values"
   ]
  },
  {
   "cell_type": "code",
   "execution_count": 6,
   "metadata": {
    "colab": {},
    "colab_type": "code",
    "id": "F61xcupkkVVE"
   },
   "outputs": [],
   "source": [
    "missing_values = ['na','--','?','-','None','none','non']"
   ]
  },
  {
   "cell_type": "markdown",
   "metadata": {
    "colab_type": "text",
    "id": "yj6767Aum9zE"
   },
   "source": [
    "### Reading the data to the data frame"
   ]
  },
  {
   "cell_type": "code",
   "execution_count": 7,
   "metadata": {
    "colab": {},
    "colab_type": "code",
    "id": "1EtKRS7Lm80I"
   },
   "outputs": [],
   "source": [
    "grocery_df = pd.read_csv(grocery_data, na_values=missing_values)\n",
    "history_df = pd.read_csv(history_data, na_values=missing_values)\n"
   ]
  },
  {
   "cell_type": "code",
   "execution_count": 8,
   "metadata": {
    "colab": {
     "base_uri": "https://localhost:8080/",
     "height": 710
    },
    "colab_type": "code",
    "id": "vMxlGcBing-K",
    "outputId": "516c64ee-33fd-43ef-81cc-b2f9ad13f079"
   },
   "outputs": [
    {
     "name": "stdout",
     "output_type": "stream",
     "text": [
      "grocery_df Shape: (252, 3)\n"
     ]
    },
    {
     "data": {
      "text/html": [
       "<div>\n",
       "<style scoped>\n",
       "    .dataframe tbody tr th:only-of-type {\n",
       "        vertical-align: middle;\n",
       "    }\n",
       "\n",
       "    .dataframe tbody tr th {\n",
       "        vertical-align: top;\n",
       "    }\n",
       "\n",
       "    .dataframe thead th {\n",
       "        text-align: right;\n",
       "    }\n",
       "</style>\n",
       "<table border=\"1\" class=\"dataframe\">\n",
       "  <thead>\n",
       "    <tr style=\"text-align: right;\">\n",
       "      <th></th>\n",
       "      <th>ItemID</th>\n",
       "      <th>Title</th>\n",
       "      <th>Category</th>\n",
       "    </tr>\n",
       "  </thead>\n",
       "  <tbody>\n",
       "    <tr>\n",
       "      <th>0</th>\n",
       "      <td>1</td>\n",
       "      <td>Asparagus</td>\n",
       "      <td>Fresh Vegetables</td>\n",
       "    </tr>\n",
       "    <tr>\n",
       "      <th>1</th>\n",
       "      <td>2</td>\n",
       "      <td>Broccoli</td>\n",
       "      <td>Fresh Vegetables</td>\n",
       "    </tr>\n",
       "    <tr>\n",
       "      <th>2</th>\n",
       "      <td>3</td>\n",
       "      <td>Carrots</td>\n",
       "      <td>Fresh Vegetables</td>\n",
       "    </tr>\n",
       "    <tr>\n",
       "      <th>3</th>\n",
       "      <td>4</td>\n",
       "      <td>Cauliflower</td>\n",
       "      <td>Fresh Vegetables</td>\n",
       "    </tr>\n",
       "    <tr>\n",
       "      <th>4</th>\n",
       "      <td>5</td>\n",
       "      <td>Celery</td>\n",
       "      <td>Fresh Vegetables</td>\n",
       "    </tr>\n",
       "    <tr>\n",
       "      <th>...</th>\n",
       "      <td>...</td>\n",
       "      <td>...</td>\n",
       "      <td>...</td>\n",
       "    </tr>\n",
       "    <tr>\n",
       "      <th>247</th>\n",
       "      <td>248</td>\n",
       "      <td>Arsenic</td>\n",
       "      <td>Carcinogens</td>\n",
       "    </tr>\n",
       "    <tr>\n",
       "      <th>248</th>\n",
       "      <td>249</td>\n",
       "      <td>Asbestos</td>\n",
       "      <td>Carcinogens</td>\n",
       "    </tr>\n",
       "    <tr>\n",
       "      <th>249</th>\n",
       "      <td>250</td>\n",
       "      <td>Cigarettes</td>\n",
       "      <td>Carcinogens</td>\n",
       "    </tr>\n",
       "    <tr>\n",
       "      <th>250</th>\n",
       "      <td>251</td>\n",
       "      <td>Radionuclides</td>\n",
       "      <td>Carcinogens</td>\n",
       "    </tr>\n",
       "    <tr>\n",
       "      <th>251</th>\n",
       "      <td>252</td>\n",
       "      <td>Vinyl chloride</td>\n",
       "      <td>Carcinogens</td>\n",
       "    </tr>\n",
       "  </tbody>\n",
       "</table>\n",
       "<p>252 rows × 3 columns</p>\n",
       "</div>"
      ],
      "text/plain": [
       "     ItemID           Title          Category\n",
       "0         1       Asparagus  Fresh Vegetables\n",
       "1         2        Broccoli  Fresh Vegetables\n",
       "2         3         Carrots  Fresh Vegetables\n",
       "3         4     Cauliflower  Fresh Vegetables\n",
       "4         5          Celery  Fresh Vegetables\n",
       "..      ...             ...               ...\n",
       "247     248         Arsenic       Carcinogens\n",
       "248     249        Asbestos       Carcinogens\n",
       "249     250      Cigarettes       Carcinogens\n",
       "250     251   Radionuclides       Carcinogens\n",
       "251     252  Vinyl chloride       Carcinogens\n",
       "\n",
       "[252 rows x 3 columns]"
      ]
     },
     "execution_count": 8,
     "metadata": {},
     "output_type": "execute_result"
    }
   ],
   "source": [
    "print('grocery_df Shape:',grocery_df.shape)\n",
    "grocery_df"
   ]
  },
  {
   "cell_type": "code",
   "execution_count": null,
   "metadata": {
    "colab": {
     "base_uri": "https://localhost:8080/",
     "height": 212
    },
    "colab_type": "code",
    "id": "joHbVy7fn1FK",
    "outputId": "d282cd3b-48b4-4acb-82a7-8e7d4941d01a"
   },
   "outputs": [],
   "source": []
  },
  {
   "cell_type": "markdown",
   "metadata": {
    "colab_type": "text",
    "id": "wRuO6Dhn1JHR"
   },
   "source": [
    "### Let's first explore and prepare the movies_df"
   ]
  },
  {
   "cell_type": "markdown",
   "metadata": {
    "colab_type": "text",
    "id": "2zqWh_JTNkSt"
   },
   "source": [
    "Let's remove the year from the title column and place it in its own column, using the handy [extract](http://pandas.pydata.org/pandas-docs/stable/reference/api/pandas.Series.str.extract.html) function of pandas, alongside python regex."
   ]
  },
  {
   "cell_type": "code",
   "execution_count": null,
   "metadata": {
    "colab": {
     "base_uri": "https://localhost:8080/",
     "height": 135
    },
    "colab_type": "code",
    "id": "wwrk5sCzNk7e",
    "outputId": "b23e3ede-5e73-449c-8bd2-44935343dafc"
   },
   "outputs": [],
   "source": []
  },
  {
   "cell_type": "code",
   "execution_count": null,
   "metadata": {
    "colab": {
     "base_uri": "https://localhost:8080/",
     "height": 135
    },
    "colab_type": "code",
    "id": "_3jDelXSOIYz",
    "outputId": "8a1d5487-9637-44ce-bb56-cb6be9cc8312"
   },
   "outputs": [],
   "source": []
  },
  {
   "cell_type": "code",
   "execution_count": null,
   "metadata": {
    "colab": {
     "base_uri": "https://localhost:8080/",
     "height": 135
    },
    "colab_type": "code",
    "id": "owtmO8PTOSIx",
    "outputId": "7d86ae85-4505-436f-ba29-ef1883cdb79f"
   },
   "outputs": [],
   "source": []
  },
  {
   "cell_type": "code",
   "execution_count": 9,
   "metadata": {
    "colab": {
     "base_uri": "https://localhost:8080/",
     "height": 194
    },
    "colab_type": "code",
    "id": "F5wqEVnbOW5O",
    "outputId": "9b32ba00-81ed-41db-cea6-ca5044261c83"
   },
   "outputs": [
    {
     "data": {
      "text/html": [
       "<div>\n",
       "<style scoped>\n",
       "    .dataframe tbody tr th:only-of-type {\n",
       "        vertical-align: middle;\n",
       "    }\n",
       "\n",
       "    .dataframe tbody tr th {\n",
       "        vertical-align: top;\n",
       "    }\n",
       "\n",
       "    .dataframe thead th {\n",
       "        text-align: right;\n",
       "    }\n",
       "</style>\n",
       "<table border=\"1\" class=\"dataframe\">\n",
       "  <thead>\n",
       "    <tr style=\"text-align: right;\">\n",
       "      <th></th>\n",
       "      <th>ItemID</th>\n",
       "      <th>Title</th>\n",
       "      <th>Category</th>\n",
       "    </tr>\n",
       "  </thead>\n",
       "  <tbody>\n",
       "    <tr>\n",
       "      <th>0</th>\n",
       "      <td>1</td>\n",
       "      <td>Asparagus</td>\n",
       "      <td>[Fresh Vegetables]</td>\n",
       "    </tr>\n",
       "    <tr>\n",
       "      <th>1</th>\n",
       "      <td>2</td>\n",
       "      <td>Broccoli</td>\n",
       "      <td>[Fresh Vegetables]</td>\n",
       "    </tr>\n",
       "    <tr>\n",
       "      <th>2</th>\n",
       "      <td>3</td>\n",
       "      <td>Carrots</td>\n",
       "      <td>[Fresh Vegetables]</td>\n",
       "    </tr>\n",
       "    <tr>\n",
       "      <th>3</th>\n",
       "      <td>4</td>\n",
       "      <td>Cauliflower</td>\n",
       "      <td>[Fresh Vegetables]</td>\n",
       "    </tr>\n",
       "    <tr>\n",
       "      <th>4</th>\n",
       "      <td>5</td>\n",
       "      <td>Celery</td>\n",
       "      <td>[Fresh Vegetables]</td>\n",
       "    </tr>\n",
       "  </tbody>\n",
       "</table>\n",
       "</div>"
      ],
      "text/plain": [
       "   ItemID        Title            Category\n",
       "0       1    Asparagus  [Fresh Vegetables]\n",
       "1       2     Broccoli  [Fresh Vegetables]\n",
       "2       3      Carrots  [Fresh Vegetables]\n",
       "3       4  Cauliflower  [Fresh Vegetables]\n",
       "4       5       Celery  [Fresh Vegetables]"
      ]
     },
     "execution_count": 9,
     "metadata": {},
     "output_type": "execute_result"
    }
   ],
   "source": [
    "grocery_df['Category'] = grocery_df.Category.str.split('|')\n",
    "grocery_df.head()"
   ]
  },
  {
   "cell_type": "markdown",
   "metadata": {
    "colab_type": "text",
    "id": "SHWZ0jDgOg3p"
   },
   "source": [
    "With that, let's also split the values in the Genres column into a list of Genres to simplify future use. This can be achieved by applying Python's split string function on the correct column."
   ]
  },
  {
   "cell_type": "code",
   "execution_count": null,
   "metadata": {
    "colab": {
     "base_uri": "https://localhost:8080/",
     "height": 194
    },
    "colab_type": "code",
    "id": "QdYoeUXiObZd",
    "outputId": "91359577-0fff-4a09-f84d-a07ee6b13b9f"
   },
   "outputs": [],
   "source": []
  },
  {
   "cell_type": "markdown",
   "metadata": {
    "colab_type": "text",
    "id": "Hz2a8sp_I7Ax"
   },
   "source": [
    "Let's view summary of the data, the memory consumption and if the titles are arranged logically"
   ]
  },
  {
   "cell_type": "code",
   "execution_count": 10,
   "metadata": {
    "colab": {
     "base_uri": "https://localhost:8080/",
     "height": 177
    },
    "colab_type": "code",
    "id": "7sGJ7AnduFcY",
    "outputId": "bb5d9033-1ef6-4f79-80e4-c00ee1b25cb3"
   },
   "outputs": [
    {
     "name": "stdout",
     "output_type": "stream",
     "text": [
      "<class 'pandas.core.frame.DataFrame'>\n",
      "RangeIndex: 252 entries, 0 to 251\n",
      "Data columns (total 3 columns):\n",
      " #   Column    Non-Null Count  Dtype \n",
      "---  ------    --------------  ----- \n",
      " 0   ItemID    252 non-null    int64 \n",
      " 1   Title     252 non-null    object\n",
      " 2   Category  252 non-null    object\n",
      "dtypes: int64(1), object(2)\n",
      "memory usage: 6.0+ KB\n"
     ]
    }
   ],
   "source": [
    "grocery_df.info()"
   ]
  },
  {
   "cell_type": "code",
   "execution_count": 11,
   "metadata": {
    "colab": {
     "base_uri": "https://localhost:8080/",
     "height": 124
    },
    "colab_type": "code",
    "id": "q6v2hkTQJMR-",
    "outputId": "613ee3e9-ec6b-4d24-aa0a-a5fb8b158020"
   },
   "outputs": [
    {
     "data": {
      "text/plain": [
       "Index        128\n",
       "ItemID      2016\n",
       "Title       2016\n",
       "Category    2016\n",
       "dtype: int64"
      ]
     },
     "execution_count": 11,
     "metadata": {},
     "output_type": "execute_result"
    }
   ],
   "source": [
    "grocery_df_original_mem = grocery_df.memory_usage()\n",
    "grocery_df_original_mem"
   ]
  },
  {
   "cell_type": "code",
   "execution_count": null,
   "metadata": {
    "colab": {},
    "colab_type": "code",
    "id": "eAs-WrUkJXc5"
   },
   "outputs": [],
   "source": []
  },
  {
   "cell_type": "markdown",
   "metadata": {
    "colab_type": "text",
    "id": "05SlRtepN54u"
   },
   "source": [
    "Let's check for missing values"
   ]
  },
  {
   "cell_type": "code",
   "execution_count": 12,
   "metadata": {
    "colab": {
     "base_uri": "https://localhost:8080/",
     "height": 106
    },
    "colab_type": "code",
    "id": "mS8EDgC-MswT",
    "outputId": "2e95367c-8155-4206-96a7-f5a55e77f945"
   },
   "outputs": [
    {
     "data": {
      "text/plain": [
       "ItemID      0\n",
       "Title       0\n",
       "Category    0\n",
       "dtype: int64"
      ]
     },
     "execution_count": 12,
     "metadata": {},
     "output_type": "execute_result"
    }
   ],
   "source": [
    "grocery_df.isna().sum()"
   ]
  },
  {
   "cell_type": "markdown",
   "metadata": {
    "colab_type": "text",
    "id": "fihTauQqPNUR"
   },
   "source": [
    "let's fill movies_df missing year  values with 0 to indicate the year is not readily available. we have only 13 rows "
   ]
  },
  {
   "cell_type": "code",
   "execution_count": null,
   "metadata": {
    "colab": {},
    "colab_type": "code",
    "id": "c25GDLqIPdyT"
   },
   "outputs": [],
   "source": []
  },
  {
   "cell_type": "code",
   "execution_count": null,
   "metadata": {
    "colab": {},
    "colab_type": "code",
    "id": "b7L8yZzkQV4T"
   },
   "outputs": [],
   "source": []
  },
  {
   "cell_type": "code",
   "execution_count": 93,
   "metadata": {
    "colab": {
     "base_uri": "https://localhost:8080/",
     "height": 248
    },
    "colab_type": "code",
    "id": "WsiCgyOYQyO7",
    "outputId": "8de6d333-ffb1-4951-8fb8-710f9cbb0ccc"
   },
   "outputs": [],
   "source": []
  },
  {
   "cell_type": "markdown",
   "metadata": {
    "colab_type": "text",
    "id": "H8C75yXySYv5"
   },
   "source": [
    "Let's see a summary of the data types again"
   ]
  },
  {
   "cell_type": "code",
   "execution_count": null,
   "metadata": {
    "colab": {
     "base_uri": "https://localhost:8080/",
     "height": 106
    },
    "colab_type": "code",
    "id": "KwJ6i7YFSdOX",
    "outputId": "2d6d0fa9-1016-4db3-b367-e73341e57207"
   },
   "outputs": [],
   "source": []
  },
  {
   "cell_type": "code",
   "execution_count": null,
   "metadata": {
    "colab": {
     "base_uri": "https://localhost:8080/",
     "height": 135
    },
    "colab_type": "code",
    "id": "cFC1mJyMPtJQ",
    "outputId": "8230fe51-73fa-4f85-b61f-8f4091d6ea7d"
   },
   "outputs": [],
   "source": []
  },
  {
   "cell_type": "markdown",
   "metadata": {
    "colab_type": "text",
    "id": "fa8eT7g1g6H6"
   },
   "source": [
    "Now, let's  One-Hot-Encode the list of genres. This encoding is needed for feeding categorical data. In this case, we store every different genre in columns that contain either 1 or 0. 1 shows that a movie has that genre and 0 shows that it doesn't. Let's also store this dataframe in another variable, just incase we need the one without genres at some point.\n"
   ]
  },
  {
   "cell_type": "code",
   "execution_count": 13,
   "metadata": {
    "colab": {
     "base_uri": "https://localhost:8080/",
     "height": 325
    },
    "colab_type": "code",
    "id": "K5h-FZSnQjUu",
    "outputId": "3335d56e-4786-48a8-c5ac-bdcf1724888f"
   },
   "outputs": [
    {
     "name": "stdout",
     "output_type": "stream",
     "text": [
      "True\n"
     ]
    },
    {
     "data": {
      "text/html": [
       "<div>\n",
       "<style scoped>\n",
       "    .dataframe tbody tr th:only-of-type {\n",
       "        vertical-align: middle;\n",
       "    }\n",
       "\n",
       "    .dataframe tbody tr th {\n",
       "        vertical-align: top;\n",
       "    }\n",
       "\n",
       "    .dataframe thead th {\n",
       "        text-align: right;\n",
       "    }\n",
       "</style>\n",
       "<table border=\"1\" class=\"dataframe\">\n",
       "  <thead>\n",
       "    <tr style=\"text-align: right;\">\n",
       "      <th></th>\n",
       "      <th>ItemID</th>\n",
       "      <th>Title</th>\n",
       "      <th>Category</th>\n",
       "      <th>Fresh Vegetables</th>\n",
       "      <th>Sauces</th>\n",
       "      <th>Dairy</th>\n",
       "      <th>Baked goods</th>\n",
       "      <th>Fruits</th>\n",
       "      <th>Variousgroceries</th>\n",
       "      <th>cheese</th>\n",
       "      <th>...</th>\n",
       "      <th>Spicesherbs</th>\n",
       "      <th>Beverages</th>\n",
       "      <th>BabyStuff</th>\n",
       "      <th>Pets</th>\n",
       "      <th>Personalcare</th>\n",
       "      <th>Medicine</th>\n",
       "      <th>Kitchen</th>\n",
       "      <th>Cleaningproducts</th>\n",
       "      <th>Officesupplies</th>\n",
       "      <th>Carcinogens</th>\n",
       "    </tr>\n",
       "  </thead>\n",
       "  <tbody>\n",
       "    <tr>\n",
       "      <th>0</th>\n",
       "      <td>1</td>\n",
       "      <td>Asparagus</td>\n",
       "      <td>[Fresh Vegetables]</td>\n",
       "      <td>1.0</td>\n",
       "      <td>NaN</td>\n",
       "      <td>NaN</td>\n",
       "      <td>NaN</td>\n",
       "      <td>NaN</td>\n",
       "      <td>NaN</td>\n",
       "      <td>NaN</td>\n",
       "      <td>...</td>\n",
       "      <td>NaN</td>\n",
       "      <td>NaN</td>\n",
       "      <td>NaN</td>\n",
       "      <td>NaN</td>\n",
       "      <td>NaN</td>\n",
       "      <td>NaN</td>\n",
       "      <td>NaN</td>\n",
       "      <td>NaN</td>\n",
       "      <td>NaN</td>\n",
       "      <td>NaN</td>\n",
       "    </tr>\n",
       "    <tr>\n",
       "      <th>1</th>\n",
       "      <td>2</td>\n",
       "      <td>Broccoli</td>\n",
       "      <td>[Fresh Vegetables]</td>\n",
       "      <td>1.0</td>\n",
       "      <td>NaN</td>\n",
       "      <td>NaN</td>\n",
       "      <td>NaN</td>\n",
       "      <td>NaN</td>\n",
       "      <td>NaN</td>\n",
       "      <td>NaN</td>\n",
       "      <td>...</td>\n",
       "      <td>NaN</td>\n",
       "      <td>NaN</td>\n",
       "      <td>NaN</td>\n",
       "      <td>NaN</td>\n",
       "      <td>NaN</td>\n",
       "      <td>NaN</td>\n",
       "      <td>NaN</td>\n",
       "      <td>NaN</td>\n",
       "      <td>NaN</td>\n",
       "      <td>NaN</td>\n",
       "    </tr>\n",
       "    <tr>\n",
       "      <th>2</th>\n",
       "      <td>3</td>\n",
       "      <td>Carrots</td>\n",
       "      <td>[Fresh Vegetables]</td>\n",
       "      <td>1.0</td>\n",
       "      <td>NaN</td>\n",
       "      <td>NaN</td>\n",
       "      <td>NaN</td>\n",
       "      <td>NaN</td>\n",
       "      <td>NaN</td>\n",
       "      <td>NaN</td>\n",
       "      <td>...</td>\n",
       "      <td>NaN</td>\n",
       "      <td>NaN</td>\n",
       "      <td>NaN</td>\n",
       "      <td>NaN</td>\n",
       "      <td>NaN</td>\n",
       "      <td>NaN</td>\n",
       "      <td>NaN</td>\n",
       "      <td>NaN</td>\n",
       "      <td>NaN</td>\n",
       "      <td>NaN</td>\n",
       "    </tr>\n",
       "  </tbody>\n",
       "</table>\n",
       "<p>3 rows × 28 columns</p>\n",
       "</div>"
      ],
      "text/plain": [
       "   ItemID      Title            Category  Fresh Vegetables  Sauces  Dairy  \\\n",
       "0       1  Asparagus  [Fresh Vegetables]               1.0     NaN    NaN   \n",
       "1       2   Broccoli  [Fresh Vegetables]               1.0     NaN    NaN   \n",
       "2       3    Carrots  [Fresh Vegetables]               1.0     NaN    NaN   \n",
       "\n",
       "   Baked goods  Fruits  Variousgroceries  cheese  ...  Spicesherbs  Beverages  \\\n",
       "0          NaN     NaN               NaN     NaN  ...          NaN        NaN   \n",
       "1          NaN     NaN               NaN     NaN  ...          NaN        NaN   \n",
       "2          NaN     NaN               NaN     NaN  ...          NaN        NaN   \n",
       "\n",
       "   BabyStuff  Pets  Personalcare  Medicine  Kitchen  Cleaningproducts  \\\n",
       "0        NaN   NaN           NaN       NaN      NaN               NaN   \n",
       "1        NaN   NaN           NaN       NaN      NaN               NaN   \n",
       "2        NaN   NaN           NaN       NaN      NaN               NaN   \n",
       "\n",
       "   Officesupplies  Carcinogens  \n",
       "0             NaN          NaN  \n",
       "1             NaN          NaN  \n",
       "2             NaN          NaN  \n",
       "\n",
       "[3 rows x 28 columns]"
      ]
     },
     "execution_count": 13,
     "metadata": {},
     "output_type": "execute_result"
    }
   ],
   "source": [
    "# First let's make a copy of the movies_df\n",
    "grocery_with_Category = grocery_df.copy(deep=True)\n",
    "x = []\n",
    "for index, row in grocery_df.iterrows():\n",
    "    x.append(index)\n",
    "    for Category in row['Category']:\n",
    "        grocery_with_Category.at[index, Category] = 1\n",
    "\n",
    "# Confirm that every row has been iterated and acted upon\n",
    "print(len(x) == len(grocery_df))\n",
    "\n",
    "grocery_with_Category.head(3)\n",
    "\n"
   ]
  },
  {
   "cell_type": "code",
   "execution_count": 14,
   "metadata": {
    "colab": {
     "base_uri": "https://localhost:8080/",
     "height": 307
    },
    "colab_type": "code",
    "id": "CpHMQ-_DnbmB",
    "outputId": "8fae8842-00d7-42c6-b5c0-41683c8283f3"
   },
   "outputs": [
    {
     "data": {
      "text/html": [
       "<div>\n",
       "<style scoped>\n",
       "    .dataframe tbody tr th:only-of-type {\n",
       "        vertical-align: middle;\n",
       "    }\n",
       "\n",
       "    .dataframe tbody tr th {\n",
       "        vertical-align: top;\n",
       "    }\n",
       "\n",
       "    .dataframe thead th {\n",
       "        text-align: right;\n",
       "    }\n",
       "</style>\n",
       "<table border=\"1\" class=\"dataframe\">\n",
       "  <thead>\n",
       "    <tr style=\"text-align: right;\">\n",
       "      <th></th>\n",
       "      <th>ItemID</th>\n",
       "      <th>Title</th>\n",
       "      <th>Category</th>\n",
       "      <th>Fresh Vegetables</th>\n",
       "      <th>Sauces</th>\n",
       "      <th>Dairy</th>\n",
       "      <th>Baked goods</th>\n",
       "      <th>Fruits</th>\n",
       "      <th>Variousgroceries</th>\n",
       "      <th>cheese</th>\n",
       "      <th>...</th>\n",
       "      <th>Spicesherbs</th>\n",
       "      <th>Beverages</th>\n",
       "      <th>BabyStuff</th>\n",
       "      <th>Pets</th>\n",
       "      <th>Personalcare</th>\n",
       "      <th>Medicine</th>\n",
       "      <th>Kitchen</th>\n",
       "      <th>Cleaningproducts</th>\n",
       "      <th>Officesupplies</th>\n",
       "      <th>Carcinogens</th>\n",
       "    </tr>\n",
       "  </thead>\n",
       "  <tbody>\n",
       "    <tr>\n",
       "      <th>0</th>\n",
       "      <td>1</td>\n",
       "      <td>Asparagus</td>\n",
       "      <td>[Fresh Vegetables]</td>\n",
       "      <td>1.0</td>\n",
       "      <td>0.0</td>\n",
       "      <td>0.0</td>\n",
       "      <td>0.0</td>\n",
       "      <td>0.0</td>\n",
       "      <td>0.0</td>\n",
       "      <td>0.0</td>\n",
       "      <td>...</td>\n",
       "      <td>0.0</td>\n",
       "      <td>0.0</td>\n",
       "      <td>0.0</td>\n",
       "      <td>0.0</td>\n",
       "      <td>0.0</td>\n",
       "      <td>0.0</td>\n",
       "      <td>0.0</td>\n",
       "      <td>0.0</td>\n",
       "      <td>0.0</td>\n",
       "      <td>0.0</td>\n",
       "    </tr>\n",
       "    <tr>\n",
       "      <th>1</th>\n",
       "      <td>2</td>\n",
       "      <td>Broccoli</td>\n",
       "      <td>[Fresh Vegetables]</td>\n",
       "      <td>1.0</td>\n",
       "      <td>0.0</td>\n",
       "      <td>0.0</td>\n",
       "      <td>0.0</td>\n",
       "      <td>0.0</td>\n",
       "      <td>0.0</td>\n",
       "      <td>0.0</td>\n",
       "      <td>...</td>\n",
       "      <td>0.0</td>\n",
       "      <td>0.0</td>\n",
       "      <td>0.0</td>\n",
       "      <td>0.0</td>\n",
       "      <td>0.0</td>\n",
       "      <td>0.0</td>\n",
       "      <td>0.0</td>\n",
       "      <td>0.0</td>\n",
       "      <td>0.0</td>\n",
       "      <td>0.0</td>\n",
       "    </tr>\n",
       "    <tr>\n",
       "      <th>2</th>\n",
       "      <td>3</td>\n",
       "      <td>Carrots</td>\n",
       "      <td>[Fresh Vegetables]</td>\n",
       "      <td>1.0</td>\n",
       "      <td>0.0</td>\n",
       "      <td>0.0</td>\n",
       "      <td>0.0</td>\n",
       "      <td>0.0</td>\n",
       "      <td>0.0</td>\n",
       "      <td>0.0</td>\n",
       "      <td>...</td>\n",
       "      <td>0.0</td>\n",
       "      <td>0.0</td>\n",
       "      <td>0.0</td>\n",
       "      <td>0.0</td>\n",
       "      <td>0.0</td>\n",
       "      <td>0.0</td>\n",
       "      <td>0.0</td>\n",
       "      <td>0.0</td>\n",
       "      <td>0.0</td>\n",
       "      <td>0.0</td>\n",
       "    </tr>\n",
       "  </tbody>\n",
       "</table>\n",
       "<p>3 rows × 28 columns</p>\n",
       "</div>"
      ],
      "text/plain": [
       "   ItemID      Title            Category  Fresh Vegetables  Sauces  Dairy  \\\n",
       "0       1  Asparagus  [Fresh Vegetables]               1.0     0.0    0.0   \n",
       "1       2   Broccoli  [Fresh Vegetables]               1.0     0.0    0.0   \n",
       "2       3    Carrots  [Fresh Vegetables]               1.0     0.0    0.0   \n",
       "\n",
       "   Baked goods  Fruits  Variousgroceries  cheese  ...  Spicesherbs  Beverages  \\\n",
       "0          0.0     0.0               0.0     0.0  ...          0.0        0.0   \n",
       "1          0.0     0.0               0.0     0.0  ...          0.0        0.0   \n",
       "2          0.0     0.0               0.0     0.0  ...          0.0        0.0   \n",
       "\n",
       "   BabyStuff  Pets  Personalcare  Medicine  Kitchen  Cleaningproducts  \\\n",
       "0        0.0   0.0           0.0       0.0      0.0               0.0   \n",
       "1        0.0   0.0           0.0       0.0      0.0               0.0   \n",
       "2        0.0   0.0           0.0       0.0      0.0               0.0   \n",
       "\n",
       "   Officesupplies  Carcinogens  \n",
       "0             0.0          0.0  \n",
       "1             0.0          0.0  \n",
       "2             0.0          0.0  \n",
       "\n",
       "[3 rows x 28 columns]"
      ]
     },
     "execution_count": 14,
     "metadata": {},
     "output_type": "execute_result"
    }
   ],
   "source": [
    "#Filling in the NaN values with 0 to show that a movie doesn't have that column's genre\n",
    "grocery_with_Category = grocery_with_Category.fillna(0)\n",
    "grocery_with_Category.head(3)"
   ]
  },
  {
   "cell_type": "markdown",
   "metadata": {
    "colab_type": "text",
    "id": "DWJTw17Z9xlp"
   },
   "source": [
    "Let's look at the ratings data set now"
   ]
  },
  {
   "cell_type": "code",
   "execution_count": 15,
   "metadata": {
    "colab": {
     "base_uri": "https://localhost:8080/",
     "height": 212
    },
    "colab_type": "code",
    "id": "if9KJFyG9y1J",
    "outputId": "40f76441-7aab-414e-e7db-d04b51fedac0",
    "scrolled": true
   },
   "outputs": [
    {
     "name": "stdout",
     "output_type": "stream",
     "text": [
      "grocery_df shape: (252, 3)\n"
     ]
    },
    {
     "data": {
      "text/html": [
       "<div>\n",
       "<style scoped>\n",
       "    .dataframe tbody tr th:only-of-type {\n",
       "        vertical-align: middle;\n",
       "    }\n",
       "\n",
       "    .dataframe tbody tr th {\n",
       "        vertical-align: top;\n",
       "    }\n",
       "\n",
       "    .dataframe thead th {\n",
       "        text-align: right;\n",
       "    }\n",
       "</style>\n",
       "<table border=\"1\" class=\"dataframe\">\n",
       "  <thead>\n",
       "    <tr style=\"text-align: right;\">\n",
       "      <th></th>\n",
       "      <th>ItemID</th>\n",
       "      <th>Title</th>\n",
       "      <th>Category</th>\n",
       "    </tr>\n",
       "  </thead>\n",
       "  <tbody>\n",
       "    <tr>\n",
       "      <th>0</th>\n",
       "      <td>1</td>\n",
       "      <td>Asparagus</td>\n",
       "      <td>[Fresh Vegetables]</td>\n",
       "    </tr>\n",
       "    <tr>\n",
       "      <th>1</th>\n",
       "      <td>2</td>\n",
       "      <td>Broccoli</td>\n",
       "      <td>[Fresh Vegetables]</td>\n",
       "    </tr>\n",
       "    <tr>\n",
       "      <th>2</th>\n",
       "      <td>3</td>\n",
       "      <td>Carrots</td>\n",
       "      <td>[Fresh Vegetables]</td>\n",
       "    </tr>\n",
       "    <tr>\n",
       "      <th>3</th>\n",
       "      <td>4</td>\n",
       "      <td>Cauliflower</td>\n",
       "      <td>[Fresh Vegetables]</td>\n",
       "    </tr>\n",
       "    <tr>\n",
       "      <th>4</th>\n",
       "      <td>5</td>\n",
       "      <td>Celery</td>\n",
       "      <td>[Fresh Vegetables]</td>\n",
       "    </tr>\n",
       "  </tbody>\n",
       "</table>\n",
       "</div>"
      ],
      "text/plain": [
       "   ItemID        Title            Category\n",
       "0       1    Asparagus  [Fresh Vegetables]\n",
       "1       2     Broccoli  [Fresh Vegetables]\n",
       "2       3      Carrots  [Fresh Vegetables]\n",
       "3       4  Cauliflower  [Fresh Vegetables]\n",
       "4       5       Celery  [Fresh Vegetables]"
      ]
     },
     "execution_count": 15,
     "metadata": {},
     "output_type": "execute_result"
    }
   ],
   "source": [
    "# print out the shape and first five rows of ratings data.\n",
    "print('grocery_df shape:',grocery_df.shape)          \n",
    "grocery_df.head()"
   ]
  },
  {
   "cell_type": "code",
   "execution_count": null,
   "metadata": {
    "colab": {
     "base_uri": "https://localhost:8080/",
     "height": 135
    },
    "colab_type": "code",
    "id": "KkwbWRco9yTp",
    "outputId": "2534be37-76ed-48e0-fde9-72d00b5fc677"
   },
   "outputs": [],
   "source": []
  },
  {
   "cell_type": "code",
   "execution_count": 16,
   "metadata": {
    "colab": {
     "base_uri": "https://localhost:8080/",
     "height": 88
    },
    "colab_type": "code",
    "id": "bOHF2sAlCIR0",
    "outputId": "9f4aeb64-eaea-40db-82ca-74c68e2a6d39"
   },
   "outputs": [
    {
     "data": {
      "text/plain": [
       "ItemID       int64\n",
       "Title       object\n",
       "Category    object\n",
       "dtype: object"
      ]
     },
     "execution_count": 16,
     "metadata": {},
     "output_type": "execute_result"
    }
   ],
   "source": [
    "# Let's confirm the right data types exist per column in ratings data_set\n",
    "\n",
    "grocery_df.dtypes"
   ]
  },
  {
   "cell_type": "code",
   "execution_count": 17,
   "metadata": {
    "colab": {
     "base_uri": "https://localhost:8080/",
     "height": 88
    },
    "colab_type": "code",
    "id": "1bs57oIBKxNR",
    "outputId": "d0b67426-1fa8-4928-d0d8-c088e124ee4e"
   },
   "outputs": [
    {
     "data": {
      "text/plain": [
       "ItemID      0\n",
       "Title       0\n",
       "Category    0\n",
       "dtype: int64"
      ]
     },
     "execution_count": 17,
     "metadata": {},
     "output_type": "execute_result"
    }
   ],
   "source": [
    "# Let's check for missing values\n",
    "\n",
    "grocery_df.isna().sum()\n"
   ]
  },
  {
   "cell_type": "markdown",
   "metadata": {
    "colab_type": "text",
    "id": "zA8jd6AQ7QSV"
   },
   "source": [
    "## Content Based recommender System"
   ]
  },
  {
   "cell_type": "markdown",
   "metadata": {
    "colab_type": "text",
    "id": "ug1HsAhl7WTI"
   },
   "source": [
    "Now, let's implement a Content-Based or Item-Item recommendation systems. This technique attempts to figure out what a user's favourite aspects of an item is, and then recommends items that present those aspects. \n",
    "\n",
    "Let's begin by creating an input user to recommend movies to. The user's name will be Lawrence and we would assume Lawrence has rated the following movies with the following ratings:-\n",
    "\n",
    "Notice: To add more movies, simply increase the amount of elements in the userInput. Feel free to add more in! Just be sure to write it in with capital letters and if a movie starts with a \"The\", like \"The Matrix\" then write it in like this: 'Matrix, The' ."
   ]
  },
  {
   "cell_type": "markdown",
   "metadata": {
    "colab_type": "text",
    "id": "wz4pTfhi-S1i"
   },
   "source": [
    "Step 1: Creating Lawrence's Profile"
   ]
  },
  {
   "cell_type": "code",
   "execution_count": 18,
   "metadata": {
    "colab": {
     "base_uri": "https://localhost:8080/",
     "height": 282
    },
    "colab_type": "code",
    "id": "0SE9XiNE7Tqf",
    "outputId": "a9cedd17-0ac0-4f56-bc2a-d8fe777f5ae7"
   },
   "outputs": [
    {
     "data": {
      "text/html": [
       "<div>\n",
       "<style scoped>\n",
       "    .dataframe tbody tr th:only-of-type {\n",
       "        vertical-align: middle;\n",
       "    }\n",
       "\n",
       "    .dataframe tbody tr th {\n",
       "        vertical-align: top;\n",
       "    }\n",
       "\n",
       "    .dataframe thead th {\n",
       "        text-align: right;\n",
       "    }\n",
       "</style>\n",
       "<table border=\"1\" class=\"dataframe\">\n",
       "  <thead>\n",
       "    <tr style=\"text-align: right;\">\n",
       "      <th></th>\n",
       "      <th>CustomerID</th>\n",
       "    </tr>\n",
       "  </thead>\n",
       "  <tbody>\n",
       "    <tr>\n",
       "      <th>0</th>\n",
       "      <td>1</td>\n",
       "    </tr>\n",
       "  </tbody>\n",
       "</table>\n",
       "</div>"
      ],
      "text/plain": [
       "   CustomerID\n",
       "0           1"
      ]
     },
     "execution_count": 18,
     "metadata": {},
     "output_type": "execute_result"
    }
   ],
   "source": [
    "Lawrence_history_data = [\n",
    "            {'CustomerID':1}\n",
    "         ] \n",
    "Lawrence_history_data = pd.DataFrame(Lawrence_history_data)\n",
    "Lawrence_history_data\n",
    "\n",
    "\n"
   ]
  },
  {
   "cell_type": "markdown",
   "metadata": {
    "colab_type": "text",
    "id": "hcz5vMBpBW1W"
   },
   "source": [
    "Add movieId to input user\n",
    "With the input complete, let's extract the input movie's ID's from the movies dataframe and add them into it.\n",
    "\n",
    "We can achieve this by first filtering out the rows that contain the input movie's title and then merging this subset with the input dataframe. We also drop unnecessary columns for the input to save memory space."
   ]
  },
  {
   "cell_type": "code",
   "execution_count": 19,
   "metadata": {
    "colab": {
     "base_uri": "https://localhost:8080/",
     "height": 311
    },
    "colab_type": "code",
    "id": "uOzFPOaA-T7b",
    "outputId": "d1007b80-d1f0-4dad-99e6-3383dda27f6f"
   },
   "outputs": [
    {
     "data": {
      "text/html": [
       "<div>\n",
       "<style scoped>\n",
       "    .dataframe tbody tr th:only-of-type {\n",
       "        vertical-align: middle;\n",
       "    }\n",
       "\n",
       "    .dataframe tbody tr th {\n",
       "        vertical-align: top;\n",
       "    }\n",
       "\n",
       "    .dataframe thead th {\n",
       "        text-align: right;\n",
       "    }\n",
       "</style>\n",
       "<table border=\"1\" class=\"dataframe\">\n",
       "  <thead>\n",
       "    <tr style=\"text-align: right;\">\n",
       "      <th></th>\n",
       "      <th>CustomerID</th>\n",
       "      <th>Title</th>\n",
       "    </tr>\n",
       "  </thead>\n",
       "  <tbody>\n",
       "    <tr>\n",
       "      <th>0</th>\n",
       "      <td>1</td>\n",
       "      <td>Carrots</td>\n",
       "    </tr>\n",
       "    <tr>\n",
       "      <th>1</th>\n",
       "      <td>1</td>\n",
       "      <td>Cauliflower</td>\n",
       "    </tr>\n",
       "    <tr>\n",
       "      <th>2</th>\n",
       "      <td>1</td>\n",
       "      <td>Hot sauce</td>\n",
       "    </tr>\n",
       "    <tr>\n",
       "      <th>3</th>\n",
       "      <td>1</td>\n",
       "      <td>Jam</td>\n",
       "    </tr>\n",
       "    <tr>\n",
       "      <th>4</th>\n",
       "      <td>1</td>\n",
       "      <td>Bananas</td>\n",
       "    </tr>\n",
       "    <tr>\n",
       "      <th>5</th>\n",
       "      <td>1</td>\n",
       "      <td>Berries</td>\n",
       "    </tr>\n",
       "    <tr>\n",
       "      <th>6</th>\n",
       "      <td>1</td>\n",
       "      <td>Cherries</td>\n",
       "    </tr>\n",
       "    <tr>\n",
       "      <th>7</th>\n",
       "      <td>1</td>\n",
       "      <td>Grapefruit</td>\n",
       "    </tr>\n",
       "  </tbody>\n",
       "</table>\n",
       "</div>"
      ],
      "text/plain": [
       "   CustomerID        Title\n",
       "0           1      Carrots\n",
       "1           1  Cauliflower\n",
       "2           1    Hot sauce\n",
       "3           1         Jam \n",
       "4           1      Bananas\n",
       "5           1      Berries\n",
       "6           1     Cherries\n",
       "7           1   Grapefruit"
      ]
     },
     "execution_count": 19,
     "metadata": {},
     "output_type": "execute_result"
    }
   ],
   "source": [
    "\n",
    "# Extracting movie Ids from movies_df and updating lawrence_movie_ratings with movie Ids.\n",
    "\n",
    "Lawrence_movie_Id = history_df[history_df['CustomerID'].isin(Lawrence_history_data['CustomerID'])]\n",
    "\n",
    "\n",
    "\n",
    "# Merging Lawrence movie Id and ratings into the lawrence_movie_ratings data frame. \n",
    "# This action implicitly merges both data frames by the title column.\n",
    "\n",
    "Lawrence_history_data = pd.merge(Lawrence_movie_Id, Lawrence_history_data)\n",
    "\n",
    "# Display the merged and updated data frame.\n",
    "\n",
    "Lawrence_history_data\n",
    "\n",
    "\n",
    "\n"
   ]
  },
  {
   "cell_type": "markdown",
   "metadata": {
    "colab_type": "text",
    "id": "Dg3_Bf37H6_v"
   },
   "source": [
    "Lets drop some columns that we do not need such as genres and year"
   ]
  },
  {
   "cell_type": "code",
   "execution_count": null,
   "metadata": {
    "colab": {
     "base_uri": "https://localhost:8080/",
     "height": 311
    },
    "colab_type": "code",
    "id": "SQbG0o3cICsO",
    "outputId": "62b2ea74-faaa-42a5-f55e-3a67e458b118"
   },
   "outputs": [],
   "source": []
  },
  {
   "cell_type": "markdown",
   "metadata": {
    "colab_type": "text",
    "id": "ab9NETn_-c-x"
   },
   "source": [
    "Step 2: Learning Lawrence's Profile"
   ]
  },
  {
   "cell_type": "markdown",
   "metadata": {
    "colab_type": "text",
    "id": "C8e1FWhiUElQ"
   },
   "source": [
    "We're going to start by learning the input's preferences, so let's get the subset of movies that the input has watched from the Dataframe containing genres defined with binary values."
   ]
  },
  {
   "cell_type": "code",
   "execution_count": 20,
   "metadata": {
    "colab": {
     "base_uri": "https://localhost:8080/",
     "height": 635
    },
    "colab_type": "code",
    "id": "BAc5yPnuUJud",
    "outputId": "c6a7db40-f2c9-4d4a-989a-9f6062755391"
   },
   "outputs": [
    {
     "data": {
      "text/html": [
       "<div>\n",
       "<style scoped>\n",
       "    .dataframe tbody tr th:only-of-type {\n",
       "        vertical-align: middle;\n",
       "    }\n",
       "\n",
       "    .dataframe tbody tr th {\n",
       "        vertical-align: top;\n",
       "    }\n",
       "\n",
       "    .dataframe thead th {\n",
       "        text-align: right;\n",
       "    }\n",
       "</style>\n",
       "<table border=\"1\" class=\"dataframe\">\n",
       "  <thead>\n",
       "    <tr style=\"text-align: right;\">\n",
       "      <th></th>\n",
       "      <th>ItemID</th>\n",
       "      <th>Title</th>\n",
       "      <th>Category</th>\n",
       "      <th>Fresh Vegetables</th>\n",
       "      <th>Sauces</th>\n",
       "      <th>Dairy</th>\n",
       "      <th>Baked goods</th>\n",
       "      <th>Fruits</th>\n",
       "      <th>Variousgroceries</th>\n",
       "      <th>cheese</th>\n",
       "      <th>...</th>\n",
       "      <th>Spicesherbs</th>\n",
       "      <th>Beverages</th>\n",
       "      <th>BabyStuff</th>\n",
       "      <th>Pets</th>\n",
       "      <th>Personalcare</th>\n",
       "      <th>Medicine</th>\n",
       "      <th>Kitchen</th>\n",
       "      <th>Cleaningproducts</th>\n",
       "      <th>Officesupplies</th>\n",
       "      <th>Carcinogens</th>\n",
       "    </tr>\n",
       "  </thead>\n",
       "  <tbody>\n",
       "    <tr>\n",
       "      <th>2</th>\n",
       "      <td>3</td>\n",
       "      <td>Carrots</td>\n",
       "      <td>[Fresh Vegetables]</td>\n",
       "      <td>1.0</td>\n",
       "      <td>0.0</td>\n",
       "      <td>0.0</td>\n",
       "      <td>0.0</td>\n",
       "      <td>0.0</td>\n",
       "      <td>0.0</td>\n",
       "      <td>0.0</td>\n",
       "      <td>...</td>\n",
       "      <td>0.0</td>\n",
       "      <td>0.0</td>\n",
       "      <td>0.0</td>\n",
       "      <td>0.0</td>\n",
       "      <td>0.0</td>\n",
       "      <td>0.0</td>\n",
       "      <td>0.0</td>\n",
       "      <td>0.0</td>\n",
       "      <td>0.0</td>\n",
       "      <td>0.0</td>\n",
       "    </tr>\n",
       "    <tr>\n",
       "      <th>3</th>\n",
       "      <td>4</td>\n",
       "      <td>Cauliflower</td>\n",
       "      <td>[Fresh Vegetables]</td>\n",
       "      <td>1.0</td>\n",
       "      <td>0.0</td>\n",
       "      <td>0.0</td>\n",
       "      <td>0.0</td>\n",
       "      <td>0.0</td>\n",
       "      <td>0.0</td>\n",
       "      <td>0.0</td>\n",
       "      <td>...</td>\n",
       "      <td>0.0</td>\n",
       "      <td>0.0</td>\n",
       "      <td>0.0</td>\n",
       "      <td>0.0</td>\n",
       "      <td>0.0</td>\n",
       "      <td>0.0</td>\n",
       "      <td>0.0</td>\n",
       "      <td>0.0</td>\n",
       "      <td>0.0</td>\n",
       "      <td>0.0</td>\n",
       "    </tr>\n",
       "    <tr>\n",
       "      <th>19</th>\n",
       "      <td>20</td>\n",
       "      <td>Hot sauce</td>\n",
       "      <td>[Sauces]</td>\n",
       "      <td>0.0</td>\n",
       "      <td>1.0</td>\n",
       "      <td>0.0</td>\n",
       "      <td>0.0</td>\n",
       "      <td>0.0</td>\n",
       "      <td>0.0</td>\n",
       "      <td>0.0</td>\n",
       "      <td>...</td>\n",
       "      <td>0.0</td>\n",
       "      <td>0.0</td>\n",
       "      <td>0.0</td>\n",
       "      <td>0.0</td>\n",
       "      <td>0.0</td>\n",
       "      <td>0.0</td>\n",
       "      <td>0.0</td>\n",
       "      <td>0.0</td>\n",
       "      <td>0.0</td>\n",
       "      <td>0.0</td>\n",
       "    </tr>\n",
       "    <tr>\n",
       "      <th>48</th>\n",
       "      <td>49</td>\n",
       "      <td>Bananas</td>\n",
       "      <td>[Fruits]</td>\n",
       "      <td>0.0</td>\n",
       "      <td>0.0</td>\n",
       "      <td>0.0</td>\n",
       "      <td>0.0</td>\n",
       "      <td>1.0</td>\n",
       "      <td>0.0</td>\n",
       "      <td>0.0</td>\n",
       "      <td>...</td>\n",
       "      <td>0.0</td>\n",
       "      <td>0.0</td>\n",
       "      <td>0.0</td>\n",
       "      <td>0.0</td>\n",
       "      <td>0.0</td>\n",
       "      <td>0.0</td>\n",
       "      <td>0.0</td>\n",
       "      <td>0.0</td>\n",
       "      <td>0.0</td>\n",
       "      <td>0.0</td>\n",
       "    </tr>\n",
       "    <tr>\n",
       "      <th>49</th>\n",
       "      <td>50</td>\n",
       "      <td>Berries</td>\n",
       "      <td>[Fruits]</td>\n",
       "      <td>0.0</td>\n",
       "      <td>0.0</td>\n",
       "      <td>0.0</td>\n",
       "      <td>0.0</td>\n",
       "      <td>1.0</td>\n",
       "      <td>0.0</td>\n",
       "      <td>0.0</td>\n",
       "      <td>...</td>\n",
       "      <td>0.0</td>\n",
       "      <td>0.0</td>\n",
       "      <td>0.0</td>\n",
       "      <td>0.0</td>\n",
       "      <td>0.0</td>\n",
       "      <td>0.0</td>\n",
       "      <td>0.0</td>\n",
       "      <td>0.0</td>\n",
       "      <td>0.0</td>\n",
       "      <td>0.0</td>\n",
       "    </tr>\n",
       "    <tr>\n",
       "      <th>50</th>\n",
       "      <td>51</td>\n",
       "      <td>Cherries</td>\n",
       "      <td>[Fruits]</td>\n",
       "      <td>0.0</td>\n",
       "      <td>0.0</td>\n",
       "      <td>0.0</td>\n",
       "      <td>0.0</td>\n",
       "      <td>1.0</td>\n",
       "      <td>0.0</td>\n",
       "      <td>0.0</td>\n",
       "      <td>...</td>\n",
       "      <td>0.0</td>\n",
       "      <td>0.0</td>\n",
       "      <td>0.0</td>\n",
       "      <td>0.0</td>\n",
       "      <td>0.0</td>\n",
       "      <td>0.0</td>\n",
       "      <td>0.0</td>\n",
       "      <td>0.0</td>\n",
       "      <td>0.0</td>\n",
       "      <td>0.0</td>\n",
       "    </tr>\n",
       "    <tr>\n",
       "      <th>51</th>\n",
       "      <td>52</td>\n",
       "      <td>Grapefruit</td>\n",
       "      <td>[Fruits]</td>\n",
       "      <td>0.0</td>\n",
       "      <td>0.0</td>\n",
       "      <td>0.0</td>\n",
       "      <td>0.0</td>\n",
       "      <td>1.0</td>\n",
       "      <td>0.0</td>\n",
       "      <td>0.0</td>\n",
       "      <td>...</td>\n",
       "      <td>0.0</td>\n",
       "      <td>0.0</td>\n",
       "      <td>0.0</td>\n",
       "      <td>0.0</td>\n",
       "      <td>0.0</td>\n",
       "      <td>0.0</td>\n",
       "      <td>0.0</td>\n",
       "      <td>0.0</td>\n",
       "      <td>0.0</td>\n",
       "      <td>0.0</td>\n",
       "    </tr>\n",
       "  </tbody>\n",
       "</table>\n",
       "<p>7 rows × 28 columns</p>\n",
       "</div>"
      ],
      "text/plain": [
       "    ItemID        Title            Category  Fresh Vegetables  Sauces  Dairy  \\\n",
       "2        3      Carrots  [Fresh Vegetables]               1.0     0.0    0.0   \n",
       "3        4  Cauliflower  [Fresh Vegetables]               1.0     0.0    0.0   \n",
       "19      20    Hot sauce            [Sauces]               0.0     1.0    0.0   \n",
       "48      49      Bananas            [Fruits]               0.0     0.0    0.0   \n",
       "49      50      Berries            [Fruits]               0.0     0.0    0.0   \n",
       "50      51     Cherries            [Fruits]               0.0     0.0    0.0   \n",
       "51      52   Grapefruit            [Fruits]               0.0     0.0    0.0   \n",
       "\n",
       "    Baked goods  Fruits  Variousgroceries  cheese  ...  Spicesherbs  \\\n",
       "2           0.0     0.0               0.0     0.0  ...          0.0   \n",
       "3           0.0     0.0               0.0     0.0  ...          0.0   \n",
       "19          0.0     0.0               0.0     0.0  ...          0.0   \n",
       "48          0.0     1.0               0.0     0.0  ...          0.0   \n",
       "49          0.0     1.0               0.0     0.0  ...          0.0   \n",
       "50          0.0     1.0               0.0     0.0  ...          0.0   \n",
       "51          0.0     1.0               0.0     0.0  ...          0.0   \n",
       "\n",
       "    Beverages  BabyStuff  Pets  Personalcare  Medicine  Kitchen  \\\n",
       "2         0.0        0.0   0.0           0.0       0.0      0.0   \n",
       "3         0.0        0.0   0.0           0.0       0.0      0.0   \n",
       "19        0.0        0.0   0.0           0.0       0.0      0.0   \n",
       "48        0.0        0.0   0.0           0.0       0.0      0.0   \n",
       "49        0.0        0.0   0.0           0.0       0.0      0.0   \n",
       "50        0.0        0.0   0.0           0.0       0.0      0.0   \n",
       "51        0.0        0.0   0.0           0.0       0.0      0.0   \n",
       "\n",
       "    Cleaningproducts  Officesupplies  Carcinogens  \n",
       "2                0.0             0.0          0.0  \n",
       "3                0.0             0.0          0.0  \n",
       "19               0.0             0.0          0.0  \n",
       "48               0.0             0.0          0.0  \n",
       "49               0.0             0.0          0.0  \n",
       "50               0.0             0.0          0.0  \n",
       "51               0.0             0.0          0.0  \n",
       "\n",
       "[7 rows x 28 columns]"
      ]
     },
     "execution_count": 20,
     "metadata": {},
     "output_type": "execute_result"
    }
   ],
   "source": [
    "# filter the selection by outputing movies that exist in both lawrence_movie_ratings and movies_with_genres\n",
    "Lawrence_genres_df = grocery_with_Category[grocery_with_Category.Title.isin(Lawrence_history_data.Title)]\n",
    "Lawrence_genres_df"
   ]
  },
  {
   "cell_type": "markdown",
   "metadata": {
    "colab_type": "text",
    "id": "YMDQjIPdXg6e"
   },
   "source": [
    "We'll only need the actual genre table, so let's clean this up a bit by resetting the index and dropping the movieId, title, genres and year columns."
   ]
  },
  {
   "cell_type": "code",
   "execution_count": 21,
   "metadata": {
    "colab": {
     "base_uri": "https://localhost:8080/",
     "height": 400
    },
    "colab_type": "code",
    "id": "3l1se7z-Xhcj",
    "outputId": "65dc25b0-3aa2-4553-a488-2a3ec3267936"
   },
   "outputs": [
    {
     "name": "stderr",
     "output_type": "stream",
     "text": [
      "C:\\Users\\snigdha\\anaconda3\\lib\\site-packages\\pandas\\core\\frame.py:4308: SettingWithCopyWarning: \n",
      "A value is trying to be set on a copy of a slice from a DataFrame\n",
      "\n",
      "See the caveats in the documentation: https://pandas.pydata.org/pandas-docs/stable/user_guide/indexing.html#returning-a-view-versus-a-copy\n",
      "  return super().drop(\n"
     ]
    },
    {
     "data": {
      "text/html": [
       "<div>\n",
       "<style scoped>\n",
       "    .dataframe tbody tr th:only-of-type {\n",
       "        vertical-align: middle;\n",
       "    }\n",
       "\n",
       "    .dataframe tbody tr th {\n",
       "        vertical-align: top;\n",
       "    }\n",
       "\n",
       "    .dataframe thead th {\n",
       "        text-align: right;\n",
       "    }\n",
       "</style>\n",
       "<table border=\"1\" class=\"dataframe\">\n",
       "  <thead>\n",
       "    <tr style=\"text-align: right;\">\n",
       "      <th></th>\n",
       "      <th>Fresh Vegetables</th>\n",
       "      <th>Sauces</th>\n",
       "      <th>Dairy</th>\n",
       "      <th>Baked goods</th>\n",
       "      <th>Fruits</th>\n",
       "      <th>Variousgroceries</th>\n",
       "      <th>cheese</th>\n",
       "      <th>Baking</th>\n",
       "      <th>Meat</th>\n",
       "      <th>Snacks</th>\n",
       "      <th>...</th>\n",
       "      <th>Spicesherbs</th>\n",
       "      <th>Beverages</th>\n",
       "      <th>BabyStuff</th>\n",
       "      <th>Pets</th>\n",
       "      <th>Personalcare</th>\n",
       "      <th>Medicine</th>\n",
       "      <th>Kitchen</th>\n",
       "      <th>Cleaningproducts</th>\n",
       "      <th>Officesupplies</th>\n",
       "      <th>Carcinogens</th>\n",
       "    </tr>\n",
       "  </thead>\n",
       "  <tbody>\n",
       "    <tr>\n",
       "      <th>0</th>\n",
       "      <td>1.0</td>\n",
       "      <td>0.0</td>\n",
       "      <td>0.0</td>\n",
       "      <td>0.0</td>\n",
       "      <td>0.0</td>\n",
       "      <td>0.0</td>\n",
       "      <td>0.0</td>\n",
       "      <td>0.0</td>\n",
       "      <td>0.0</td>\n",
       "      <td>0.0</td>\n",
       "      <td>...</td>\n",
       "      <td>0.0</td>\n",
       "      <td>0.0</td>\n",
       "      <td>0.0</td>\n",
       "      <td>0.0</td>\n",
       "      <td>0.0</td>\n",
       "      <td>0.0</td>\n",
       "      <td>0.0</td>\n",
       "      <td>0.0</td>\n",
       "      <td>0.0</td>\n",
       "      <td>0.0</td>\n",
       "    </tr>\n",
       "    <tr>\n",
       "      <th>1</th>\n",
       "      <td>1.0</td>\n",
       "      <td>0.0</td>\n",
       "      <td>0.0</td>\n",
       "      <td>0.0</td>\n",
       "      <td>0.0</td>\n",
       "      <td>0.0</td>\n",
       "      <td>0.0</td>\n",
       "      <td>0.0</td>\n",
       "      <td>0.0</td>\n",
       "      <td>0.0</td>\n",
       "      <td>...</td>\n",
       "      <td>0.0</td>\n",
       "      <td>0.0</td>\n",
       "      <td>0.0</td>\n",
       "      <td>0.0</td>\n",
       "      <td>0.0</td>\n",
       "      <td>0.0</td>\n",
       "      <td>0.0</td>\n",
       "      <td>0.0</td>\n",
       "      <td>0.0</td>\n",
       "      <td>0.0</td>\n",
       "    </tr>\n",
       "    <tr>\n",
       "      <th>2</th>\n",
       "      <td>0.0</td>\n",
       "      <td>1.0</td>\n",
       "      <td>0.0</td>\n",
       "      <td>0.0</td>\n",
       "      <td>0.0</td>\n",
       "      <td>0.0</td>\n",
       "      <td>0.0</td>\n",
       "      <td>0.0</td>\n",
       "      <td>0.0</td>\n",
       "      <td>0.0</td>\n",
       "      <td>...</td>\n",
       "      <td>0.0</td>\n",
       "      <td>0.0</td>\n",
       "      <td>0.0</td>\n",
       "      <td>0.0</td>\n",
       "      <td>0.0</td>\n",
       "      <td>0.0</td>\n",
       "      <td>0.0</td>\n",
       "      <td>0.0</td>\n",
       "      <td>0.0</td>\n",
       "      <td>0.0</td>\n",
       "    </tr>\n",
       "    <tr>\n",
       "      <th>3</th>\n",
       "      <td>0.0</td>\n",
       "      <td>0.0</td>\n",
       "      <td>0.0</td>\n",
       "      <td>0.0</td>\n",
       "      <td>1.0</td>\n",
       "      <td>0.0</td>\n",
       "      <td>0.0</td>\n",
       "      <td>0.0</td>\n",
       "      <td>0.0</td>\n",
       "      <td>0.0</td>\n",
       "      <td>...</td>\n",
       "      <td>0.0</td>\n",
       "      <td>0.0</td>\n",
       "      <td>0.0</td>\n",
       "      <td>0.0</td>\n",
       "      <td>0.0</td>\n",
       "      <td>0.0</td>\n",
       "      <td>0.0</td>\n",
       "      <td>0.0</td>\n",
       "      <td>0.0</td>\n",
       "      <td>0.0</td>\n",
       "    </tr>\n",
       "    <tr>\n",
       "      <th>4</th>\n",
       "      <td>0.0</td>\n",
       "      <td>0.0</td>\n",
       "      <td>0.0</td>\n",
       "      <td>0.0</td>\n",
       "      <td>1.0</td>\n",
       "      <td>0.0</td>\n",
       "      <td>0.0</td>\n",
       "      <td>0.0</td>\n",
       "      <td>0.0</td>\n",
       "      <td>0.0</td>\n",
       "      <td>...</td>\n",
       "      <td>0.0</td>\n",
       "      <td>0.0</td>\n",
       "      <td>0.0</td>\n",
       "      <td>0.0</td>\n",
       "      <td>0.0</td>\n",
       "      <td>0.0</td>\n",
       "      <td>0.0</td>\n",
       "      <td>0.0</td>\n",
       "      <td>0.0</td>\n",
       "      <td>0.0</td>\n",
       "    </tr>\n",
       "    <tr>\n",
       "      <th>5</th>\n",
       "      <td>0.0</td>\n",
       "      <td>0.0</td>\n",
       "      <td>0.0</td>\n",
       "      <td>0.0</td>\n",
       "      <td>1.0</td>\n",
       "      <td>0.0</td>\n",
       "      <td>0.0</td>\n",
       "      <td>0.0</td>\n",
       "      <td>0.0</td>\n",
       "      <td>0.0</td>\n",
       "      <td>...</td>\n",
       "      <td>0.0</td>\n",
       "      <td>0.0</td>\n",
       "      <td>0.0</td>\n",
       "      <td>0.0</td>\n",
       "      <td>0.0</td>\n",
       "      <td>0.0</td>\n",
       "      <td>0.0</td>\n",
       "      <td>0.0</td>\n",
       "      <td>0.0</td>\n",
       "      <td>0.0</td>\n",
       "    </tr>\n",
       "    <tr>\n",
       "      <th>6</th>\n",
       "      <td>0.0</td>\n",
       "      <td>0.0</td>\n",
       "      <td>0.0</td>\n",
       "      <td>0.0</td>\n",
       "      <td>1.0</td>\n",
       "      <td>0.0</td>\n",
       "      <td>0.0</td>\n",
       "      <td>0.0</td>\n",
       "      <td>0.0</td>\n",
       "      <td>0.0</td>\n",
       "      <td>...</td>\n",
       "      <td>0.0</td>\n",
       "      <td>0.0</td>\n",
       "      <td>0.0</td>\n",
       "      <td>0.0</td>\n",
       "      <td>0.0</td>\n",
       "      <td>0.0</td>\n",
       "      <td>0.0</td>\n",
       "      <td>0.0</td>\n",
       "      <td>0.0</td>\n",
       "      <td>0.0</td>\n",
       "    </tr>\n",
       "  </tbody>\n",
       "</table>\n",
       "<p>7 rows × 25 columns</p>\n",
       "</div>"
      ],
      "text/plain": [
       "   Fresh Vegetables  Sauces  Dairy  Baked goods  Fruits  Variousgroceries  \\\n",
       "0               1.0     0.0    0.0          0.0     0.0               0.0   \n",
       "1               1.0     0.0    0.0          0.0     0.0               0.0   \n",
       "2               0.0     1.0    0.0          0.0     0.0               0.0   \n",
       "3               0.0     0.0    0.0          0.0     1.0               0.0   \n",
       "4               0.0     0.0    0.0          0.0     1.0               0.0   \n",
       "5               0.0     0.0    0.0          0.0     1.0               0.0   \n",
       "6               0.0     0.0    0.0          0.0     1.0               0.0   \n",
       "\n",
       "   cheese  Baking  Meat  Snacks  ...  Spicesherbs  Beverages  BabyStuff  Pets  \\\n",
       "0     0.0     0.0   0.0     0.0  ...          0.0        0.0        0.0   0.0   \n",
       "1     0.0     0.0   0.0     0.0  ...          0.0        0.0        0.0   0.0   \n",
       "2     0.0     0.0   0.0     0.0  ...          0.0        0.0        0.0   0.0   \n",
       "3     0.0     0.0   0.0     0.0  ...          0.0        0.0        0.0   0.0   \n",
       "4     0.0     0.0   0.0     0.0  ...          0.0        0.0        0.0   0.0   \n",
       "5     0.0     0.0   0.0     0.0  ...          0.0        0.0        0.0   0.0   \n",
       "6     0.0     0.0   0.0     0.0  ...          0.0        0.0        0.0   0.0   \n",
       "\n",
       "   Personalcare  Medicine  Kitchen  Cleaningproducts  Officesupplies  \\\n",
       "0           0.0       0.0      0.0               0.0             0.0   \n",
       "1           0.0       0.0      0.0               0.0             0.0   \n",
       "2           0.0       0.0      0.0               0.0             0.0   \n",
       "3           0.0       0.0      0.0               0.0             0.0   \n",
       "4           0.0       0.0      0.0               0.0             0.0   \n",
       "5           0.0       0.0      0.0               0.0             0.0   \n",
       "6           0.0       0.0      0.0               0.0             0.0   \n",
       "\n",
       "   Carcinogens  \n",
       "0          0.0  \n",
       "1          0.0  \n",
       "2          0.0  \n",
       "3          0.0  \n",
       "4          0.0  \n",
       "5          0.0  \n",
       "6          0.0  \n",
       "\n",
       "[7 rows x 25 columns]"
      ]
     },
     "execution_count": 21,
     "metadata": {},
     "output_type": "execute_result"
    }
   ],
   "source": [
    "# First, let's reset index to default and drop the existing index.\n",
    "Lawrence_genres_df.reset_index(drop=True, inplace=True)\n",
    "\n",
    "# Next, let's drop redundant columns\n",
    "Lawrence_genres_df.drop(['ItemID','Title','Category'], axis=1, inplace=True)\n",
    "\n",
    "# Let's view chamges\n",
    "\n",
    "Lawrence_genres_df"
   ]
  },
  {
   "cell_type": "markdown",
   "metadata": {
    "colab_type": "text",
    "id": "gbj6DHV3dE5_"
   },
   "source": [
    "Step 3: Building Lawrence's Profile<br>\n",
    "To do this, we're going to turn each genre into weights, by multiplying Lawrence's movie ratings by lawrence_genres_df table. And then summing up the resulting table by column. This operation is actually a dot product between a matrix and a vector.\n",
    "First let's confirm the shapes of the data frames we have recently defined"
   ]
  },
  {
   "cell_type": "code",
   "execution_count": null,
   "metadata": {
    "colab": {
     "base_uri": "https://localhost:8080/",
     "height": 52
    },
    "colab_type": "code",
    "id": "jAN1Eey1dHy1",
    "outputId": "8a61a0af-740f-4941-a38c-b727a382fa11"
   },
   "outputs": [],
   "source": []
  },
  {
   "cell_type": "code",
   "execution_count": 24,
   "metadata": {
    "colab": {
     "base_uri": "https://localhost:8080/",
     "height": 390
    },
    "colab_type": "code",
    "id": "xo3iXEXSfAlg",
    "outputId": "e6100905-feb6-459b-9976-b7474054eb47"
   },
   "outputs": [
    {
     "data": {
      "text/plain": [
       "Fresh Vegetables    2.0\n",
       "Sauces              1.0\n",
       "Dairy               0.0\n",
       "Baked goods         0.0\n",
       "Fruits              4.0\n",
       "                   ... \n",
       "Medicine            0.0\n",
       "Kitchen             0.0\n",
       "Cleaningproducts    0.0\n",
       "Officesupplies      0.0\n",
       "Carcinogens         0.0\n",
       "Length: 25, dtype: float64"
      ]
     },
     "execution_count": 24,
     "metadata": {},
     "output_type": "execute_result"
    }
   ],
   "source": [
    "# Let's find the dot product of transpose of Lawrence_genres_df by lawrence rating column\n",
    "Lawrence_profile = Lawrence_genres_df.sum()\n",
    "\n",
    "# Let's see the result\n",
    "Lawrence_profile"
   ]
  },
  {
   "cell_type": "markdown",
   "metadata": {
    "colab_type": "text",
    "id": "l7ZRBsU0k3ko"
   },
   "source": [
    "Just by Eye-balling his profile, it is clear that Lawrence loves 'Thriller', 'Action' and 'Horror' movies the most… apt as can be.<br>\n",
    "Now, we have the weights for all his preferences. This is known as the User Profile. We can now recommend movies that satisfy Lawrence.<br>\n",
    "Let's start by editing the original movies_with_genres data frame that contains all movies and their genres columns."
   ]
  },
  {
   "cell_type": "markdown",
   "metadata": {
    "colab_type": "text",
    "id": "l2IKNelL-1gF"
   },
   "source": [
    "Step 4: Deploying The Content-Based Recommender System."
   ]
  },
  {
   "cell_type": "code",
   "execution_count": 25,
   "metadata": {
    "colab": {
     "base_uri": "https://localhost:8080/",
     "height": 463
    },
    "colab_type": "code",
    "id": "3mV0FVBKmHZJ",
    "outputId": "6055c6a2-740d-41a4-ea01-a0021acc9937"
   },
   "outputs": [
    {
     "data": {
      "text/html": [
       "<div>\n",
       "<style scoped>\n",
       "    .dataframe tbody tr th:only-of-type {\n",
       "        vertical-align: middle;\n",
       "    }\n",
       "\n",
       "    .dataframe tbody tr th {\n",
       "        vertical-align: top;\n",
       "    }\n",
       "\n",
       "    .dataframe thead th {\n",
       "        text-align: right;\n",
       "    }\n",
       "</style>\n",
       "<table border=\"1\" class=\"dataframe\">\n",
       "  <thead>\n",
       "    <tr style=\"text-align: right;\">\n",
       "      <th></th>\n",
       "      <th>ItemID</th>\n",
       "      <th>Title</th>\n",
       "      <th>Category</th>\n",
       "      <th>Fresh Vegetables</th>\n",
       "      <th>Sauces</th>\n",
       "      <th>Dairy</th>\n",
       "      <th>Baked goods</th>\n",
       "      <th>Fruits</th>\n",
       "      <th>Variousgroceries</th>\n",
       "      <th>cheese</th>\n",
       "      <th>...</th>\n",
       "      <th>Spicesherbs</th>\n",
       "      <th>Beverages</th>\n",
       "      <th>BabyStuff</th>\n",
       "      <th>Pets</th>\n",
       "      <th>Personalcare</th>\n",
       "      <th>Medicine</th>\n",
       "      <th>Kitchen</th>\n",
       "      <th>Cleaningproducts</th>\n",
       "      <th>Officesupplies</th>\n",
       "      <th>Carcinogens</th>\n",
       "    </tr>\n",
       "    <tr>\n",
       "      <th>ItemID</th>\n",
       "      <th></th>\n",
       "      <th></th>\n",
       "      <th></th>\n",
       "      <th></th>\n",
       "      <th></th>\n",
       "      <th></th>\n",
       "      <th></th>\n",
       "      <th></th>\n",
       "      <th></th>\n",
       "      <th></th>\n",
       "      <th></th>\n",
       "      <th></th>\n",
       "      <th></th>\n",
       "      <th></th>\n",
       "      <th></th>\n",
       "      <th></th>\n",
       "      <th></th>\n",
       "      <th></th>\n",
       "      <th></th>\n",
       "      <th></th>\n",
       "      <th></th>\n",
       "    </tr>\n",
       "  </thead>\n",
       "  <tbody>\n",
       "    <tr>\n",
       "      <th>1</th>\n",
       "      <td>1</td>\n",
       "      <td>Asparagus</td>\n",
       "      <td>[Fresh Vegetables]</td>\n",
       "      <td>1.0</td>\n",
       "      <td>0.0</td>\n",
       "      <td>0.0</td>\n",
       "      <td>0.0</td>\n",
       "      <td>0.0</td>\n",
       "      <td>0.0</td>\n",
       "      <td>0.0</td>\n",
       "      <td>...</td>\n",
       "      <td>0.0</td>\n",
       "      <td>0.0</td>\n",
       "      <td>0.0</td>\n",
       "      <td>0.0</td>\n",
       "      <td>0.0</td>\n",
       "      <td>0.0</td>\n",
       "      <td>0.0</td>\n",
       "      <td>0.0</td>\n",
       "      <td>0.0</td>\n",
       "      <td>0.0</td>\n",
       "    </tr>\n",
       "    <tr>\n",
       "      <th>2</th>\n",
       "      <td>2</td>\n",
       "      <td>Broccoli</td>\n",
       "      <td>[Fresh Vegetables]</td>\n",
       "      <td>1.0</td>\n",
       "      <td>0.0</td>\n",
       "      <td>0.0</td>\n",
       "      <td>0.0</td>\n",
       "      <td>0.0</td>\n",
       "      <td>0.0</td>\n",
       "      <td>0.0</td>\n",
       "      <td>...</td>\n",
       "      <td>0.0</td>\n",
       "      <td>0.0</td>\n",
       "      <td>0.0</td>\n",
       "      <td>0.0</td>\n",
       "      <td>0.0</td>\n",
       "      <td>0.0</td>\n",
       "      <td>0.0</td>\n",
       "      <td>0.0</td>\n",
       "      <td>0.0</td>\n",
       "      <td>0.0</td>\n",
       "    </tr>\n",
       "    <tr>\n",
       "      <th>3</th>\n",
       "      <td>3</td>\n",
       "      <td>Carrots</td>\n",
       "      <td>[Fresh Vegetables]</td>\n",
       "      <td>1.0</td>\n",
       "      <td>0.0</td>\n",
       "      <td>0.0</td>\n",
       "      <td>0.0</td>\n",
       "      <td>0.0</td>\n",
       "      <td>0.0</td>\n",
       "      <td>0.0</td>\n",
       "      <td>...</td>\n",
       "      <td>0.0</td>\n",
       "      <td>0.0</td>\n",
       "      <td>0.0</td>\n",
       "      <td>0.0</td>\n",
       "      <td>0.0</td>\n",
       "      <td>0.0</td>\n",
       "      <td>0.0</td>\n",
       "      <td>0.0</td>\n",
       "      <td>0.0</td>\n",
       "      <td>0.0</td>\n",
       "    </tr>\n",
       "    <tr>\n",
       "      <th>4</th>\n",
       "      <td>4</td>\n",
       "      <td>Cauliflower</td>\n",
       "      <td>[Fresh Vegetables]</td>\n",
       "      <td>1.0</td>\n",
       "      <td>0.0</td>\n",
       "      <td>0.0</td>\n",
       "      <td>0.0</td>\n",
       "      <td>0.0</td>\n",
       "      <td>0.0</td>\n",
       "      <td>0.0</td>\n",
       "      <td>...</td>\n",
       "      <td>0.0</td>\n",
       "      <td>0.0</td>\n",
       "      <td>0.0</td>\n",
       "      <td>0.0</td>\n",
       "      <td>0.0</td>\n",
       "      <td>0.0</td>\n",
       "      <td>0.0</td>\n",
       "      <td>0.0</td>\n",
       "      <td>0.0</td>\n",
       "      <td>0.0</td>\n",
       "    </tr>\n",
       "    <tr>\n",
       "      <th>5</th>\n",
       "      <td>5</td>\n",
       "      <td>Celery</td>\n",
       "      <td>[Fresh Vegetables]</td>\n",
       "      <td>1.0</td>\n",
       "      <td>0.0</td>\n",
       "      <td>0.0</td>\n",
       "      <td>0.0</td>\n",
       "      <td>0.0</td>\n",
       "      <td>0.0</td>\n",
       "      <td>0.0</td>\n",
       "      <td>...</td>\n",
       "      <td>0.0</td>\n",
       "      <td>0.0</td>\n",
       "      <td>0.0</td>\n",
       "      <td>0.0</td>\n",
       "      <td>0.0</td>\n",
       "      <td>0.0</td>\n",
       "      <td>0.0</td>\n",
       "      <td>0.0</td>\n",
       "      <td>0.0</td>\n",
       "      <td>0.0</td>\n",
       "    </tr>\n",
       "  </tbody>\n",
       "</table>\n",
       "<p>5 rows × 28 columns</p>\n",
       "</div>"
      ],
      "text/plain": [
       "        ItemID        Title            Category  Fresh Vegetables  Sauces  \\\n",
       "ItemID                                                                      \n",
       "1            1    Asparagus  [Fresh Vegetables]               1.0     0.0   \n",
       "2            2     Broccoli  [Fresh Vegetables]               1.0     0.0   \n",
       "3            3      Carrots  [Fresh Vegetables]               1.0     0.0   \n",
       "4            4  Cauliflower  [Fresh Vegetables]               1.0     0.0   \n",
       "5            5       Celery  [Fresh Vegetables]               1.0     0.0   \n",
       "\n",
       "        Dairy  Baked goods  Fruits  Variousgroceries  cheese  ...  \\\n",
       "ItemID                                                        ...   \n",
       "1         0.0          0.0     0.0               0.0     0.0  ...   \n",
       "2         0.0          0.0     0.0               0.0     0.0  ...   \n",
       "3         0.0          0.0     0.0               0.0     0.0  ...   \n",
       "4         0.0          0.0     0.0               0.0     0.0  ...   \n",
       "5         0.0          0.0     0.0               0.0     0.0  ...   \n",
       "\n",
       "        Spicesherbs  Beverages  BabyStuff  Pets  Personalcare  Medicine  \\\n",
       "ItemID                                                                    \n",
       "1               0.0        0.0        0.0   0.0           0.0       0.0   \n",
       "2               0.0        0.0        0.0   0.0           0.0       0.0   \n",
       "3               0.0        0.0        0.0   0.0           0.0       0.0   \n",
       "4               0.0        0.0        0.0   0.0           0.0       0.0   \n",
       "5               0.0        0.0        0.0   0.0           0.0       0.0   \n",
       "\n",
       "        Kitchen  Cleaningproducts  Officesupplies  Carcinogens  \n",
       "ItemID                                                          \n",
       "1           0.0               0.0             0.0          0.0  \n",
       "2           0.0               0.0             0.0          0.0  \n",
       "3           0.0               0.0             0.0          0.0  \n",
       "4           0.0               0.0             0.0          0.0  \n",
       "5           0.0               0.0             0.0          0.0  \n",
       "\n",
       "[5 rows x 28 columns]"
      ]
     },
     "execution_count": 25,
     "metadata": {},
     "output_type": "execute_result"
    }
   ],
   "source": [
    "# let's set the index to the movieId\n",
    "grocery_with_Category = grocery_with_Category.set_index(grocery_with_Category.ItemID)\n",
    "\n",
    "# let's view the head\n",
    "grocery_with_Category.head()"
   ]
  },
  {
   "cell_type": "markdown",
   "metadata": {
    "colab_type": "text",
    "id": "9Uq4Wn9XoM3Z"
   },
   "source": [
    "Let's delete irrelevant columns from the movies_with_genres data frame that contains all 9742 movies and distinctive columns of genres."
   ]
  },
  {
   "cell_type": "code",
   "execution_count": 26,
   "metadata": {
    "colab": {
     "base_uri": "https://localhost:8080/",
     "height": 223
    },
    "colab_type": "code",
    "id": "k2EWtHxYn9gF",
    "outputId": "4add5850-f4cc-4e14-8896-2f475fc5b01d"
   },
   "outputs": [
    {
     "data": {
      "text/html": [
       "<div>\n",
       "<style scoped>\n",
       "    .dataframe tbody tr th:only-of-type {\n",
       "        vertical-align: middle;\n",
       "    }\n",
       "\n",
       "    .dataframe tbody tr th {\n",
       "        vertical-align: top;\n",
       "    }\n",
       "\n",
       "    .dataframe thead th {\n",
       "        text-align: right;\n",
       "    }\n",
       "</style>\n",
       "<table border=\"1\" class=\"dataframe\">\n",
       "  <thead>\n",
       "    <tr style=\"text-align: right;\">\n",
       "      <th></th>\n",
       "      <th>Fresh Vegetables</th>\n",
       "      <th>Sauces</th>\n",
       "      <th>Dairy</th>\n",
       "      <th>Baked goods</th>\n",
       "      <th>Fruits</th>\n",
       "      <th>Variousgroceries</th>\n",
       "      <th>cheese</th>\n",
       "      <th>Baking</th>\n",
       "      <th>Meat</th>\n",
       "      <th>Snacks</th>\n",
       "      <th>...</th>\n",
       "      <th>Spicesherbs</th>\n",
       "      <th>Beverages</th>\n",
       "      <th>BabyStuff</th>\n",
       "      <th>Pets</th>\n",
       "      <th>Personalcare</th>\n",
       "      <th>Medicine</th>\n",
       "      <th>Kitchen</th>\n",
       "      <th>Cleaningproducts</th>\n",
       "      <th>Officesupplies</th>\n",
       "      <th>Carcinogens</th>\n",
       "    </tr>\n",
       "    <tr>\n",
       "      <th>ItemID</th>\n",
       "      <th></th>\n",
       "      <th></th>\n",
       "      <th></th>\n",
       "      <th></th>\n",
       "      <th></th>\n",
       "      <th></th>\n",
       "      <th></th>\n",
       "      <th></th>\n",
       "      <th></th>\n",
       "      <th></th>\n",
       "      <th></th>\n",
       "      <th></th>\n",
       "      <th></th>\n",
       "      <th></th>\n",
       "      <th></th>\n",
       "      <th></th>\n",
       "      <th></th>\n",
       "      <th></th>\n",
       "      <th></th>\n",
       "      <th></th>\n",
       "      <th></th>\n",
       "    </tr>\n",
       "  </thead>\n",
       "  <tbody>\n",
       "    <tr>\n",
       "      <th>1</th>\n",
       "      <td>1.0</td>\n",
       "      <td>0.0</td>\n",
       "      <td>0.0</td>\n",
       "      <td>0.0</td>\n",
       "      <td>0.0</td>\n",
       "      <td>0.0</td>\n",
       "      <td>0.0</td>\n",
       "      <td>0.0</td>\n",
       "      <td>0.0</td>\n",
       "      <td>0.0</td>\n",
       "      <td>...</td>\n",
       "      <td>0.0</td>\n",
       "      <td>0.0</td>\n",
       "      <td>0.0</td>\n",
       "      <td>0.0</td>\n",
       "      <td>0.0</td>\n",
       "      <td>0.0</td>\n",
       "      <td>0.0</td>\n",
       "      <td>0.0</td>\n",
       "      <td>0.0</td>\n",
       "      <td>0.0</td>\n",
       "    </tr>\n",
       "    <tr>\n",
       "      <th>2</th>\n",
       "      <td>1.0</td>\n",
       "      <td>0.0</td>\n",
       "      <td>0.0</td>\n",
       "      <td>0.0</td>\n",
       "      <td>0.0</td>\n",
       "      <td>0.0</td>\n",
       "      <td>0.0</td>\n",
       "      <td>0.0</td>\n",
       "      <td>0.0</td>\n",
       "      <td>0.0</td>\n",
       "      <td>...</td>\n",
       "      <td>0.0</td>\n",
       "      <td>0.0</td>\n",
       "      <td>0.0</td>\n",
       "      <td>0.0</td>\n",
       "      <td>0.0</td>\n",
       "      <td>0.0</td>\n",
       "      <td>0.0</td>\n",
       "      <td>0.0</td>\n",
       "      <td>0.0</td>\n",
       "      <td>0.0</td>\n",
       "    </tr>\n",
       "    <tr>\n",
       "      <th>3</th>\n",
       "      <td>1.0</td>\n",
       "      <td>0.0</td>\n",
       "      <td>0.0</td>\n",
       "      <td>0.0</td>\n",
       "      <td>0.0</td>\n",
       "      <td>0.0</td>\n",
       "      <td>0.0</td>\n",
       "      <td>0.0</td>\n",
       "      <td>0.0</td>\n",
       "      <td>0.0</td>\n",
       "      <td>...</td>\n",
       "      <td>0.0</td>\n",
       "      <td>0.0</td>\n",
       "      <td>0.0</td>\n",
       "      <td>0.0</td>\n",
       "      <td>0.0</td>\n",
       "      <td>0.0</td>\n",
       "      <td>0.0</td>\n",
       "      <td>0.0</td>\n",
       "      <td>0.0</td>\n",
       "      <td>0.0</td>\n",
       "    </tr>\n",
       "    <tr>\n",
       "      <th>4</th>\n",
       "      <td>1.0</td>\n",
       "      <td>0.0</td>\n",
       "      <td>0.0</td>\n",
       "      <td>0.0</td>\n",
       "      <td>0.0</td>\n",
       "      <td>0.0</td>\n",
       "      <td>0.0</td>\n",
       "      <td>0.0</td>\n",
       "      <td>0.0</td>\n",
       "      <td>0.0</td>\n",
       "      <td>...</td>\n",
       "      <td>0.0</td>\n",
       "      <td>0.0</td>\n",
       "      <td>0.0</td>\n",
       "      <td>0.0</td>\n",
       "      <td>0.0</td>\n",
       "      <td>0.0</td>\n",
       "      <td>0.0</td>\n",
       "      <td>0.0</td>\n",
       "      <td>0.0</td>\n",
       "      <td>0.0</td>\n",
       "    </tr>\n",
       "    <tr>\n",
       "      <th>5</th>\n",
       "      <td>1.0</td>\n",
       "      <td>0.0</td>\n",
       "      <td>0.0</td>\n",
       "      <td>0.0</td>\n",
       "      <td>0.0</td>\n",
       "      <td>0.0</td>\n",
       "      <td>0.0</td>\n",
       "      <td>0.0</td>\n",
       "      <td>0.0</td>\n",
       "      <td>0.0</td>\n",
       "      <td>...</td>\n",
       "      <td>0.0</td>\n",
       "      <td>0.0</td>\n",
       "      <td>0.0</td>\n",
       "      <td>0.0</td>\n",
       "      <td>0.0</td>\n",
       "      <td>0.0</td>\n",
       "      <td>0.0</td>\n",
       "      <td>0.0</td>\n",
       "      <td>0.0</td>\n",
       "      <td>0.0</td>\n",
       "    </tr>\n",
       "  </tbody>\n",
       "</table>\n",
       "<p>5 rows × 25 columns</p>\n",
       "</div>"
      ],
      "text/plain": [
       "        Fresh Vegetables  Sauces  Dairy  Baked goods  Fruits  \\\n",
       "ItemID                                                         \n",
       "1                    1.0     0.0    0.0          0.0     0.0   \n",
       "2                    1.0     0.0    0.0          0.0     0.0   \n",
       "3                    1.0     0.0    0.0          0.0     0.0   \n",
       "4                    1.0     0.0    0.0          0.0     0.0   \n",
       "5                    1.0     0.0    0.0          0.0     0.0   \n",
       "\n",
       "        Variousgroceries  cheese  Baking  Meat  Snacks  ...  Spicesherbs  \\\n",
       "ItemID                                                  ...                \n",
       "1                    0.0     0.0     0.0   0.0     0.0  ...          0.0   \n",
       "2                    0.0     0.0     0.0   0.0     0.0  ...          0.0   \n",
       "3                    0.0     0.0     0.0   0.0     0.0  ...          0.0   \n",
       "4                    0.0     0.0     0.0   0.0     0.0  ...          0.0   \n",
       "5                    0.0     0.0     0.0   0.0     0.0  ...          0.0   \n",
       "\n",
       "        Beverages  BabyStuff  Pets  Personalcare  Medicine  Kitchen  \\\n",
       "ItemID                                                                \n",
       "1             0.0        0.0   0.0           0.0       0.0      0.0   \n",
       "2             0.0        0.0   0.0           0.0       0.0      0.0   \n",
       "3             0.0        0.0   0.0           0.0       0.0      0.0   \n",
       "4             0.0        0.0   0.0           0.0       0.0      0.0   \n",
       "5             0.0        0.0   0.0           0.0       0.0      0.0   \n",
       "\n",
       "        Cleaningproducts  Officesupplies  Carcinogens  \n",
       "ItemID                                                 \n",
       "1                    0.0             0.0          0.0  \n",
       "2                    0.0             0.0          0.0  \n",
       "3                    0.0             0.0          0.0  \n",
       "4                    0.0             0.0          0.0  \n",
       "5                    0.0             0.0          0.0  \n",
       "\n",
       "[5 rows x 25 columns]"
      ]
     },
     "execution_count": 26,
     "metadata": {},
     "output_type": "execute_result"
    }
   ],
   "source": [
    "# Deleting four unnecessary columns.\n",
    "grocery_with_Category.drop(['ItemID','Title','Category'], axis=1, inplace=True)\n",
    "\n",
    "# Viewing changes.\n",
    "grocery_with_Category.head()"
   ]
  },
  {
   "cell_type": "markdown",
   "metadata": {
    "colab_type": "text",
    "id": "6MIuTp2kshx0"
   },
   "source": [
    "With Lawrence's profile and the complete list of movies and their genres in hand, we're going to take the weighted average of every movie based on his profile and recommend the top twenty movies that match his preference."
   ]
  },
  {
   "cell_type": "code",
   "execution_count": 31,
   "metadata": {
    "colab": {
     "base_uri": "https://localhost:8080/",
     "height": 141
    },
    "colab_type": "code",
    "id": "LTKkuZXpuo4m",
    "outputId": "00b7e7b8-f7d6-48cf-8dda-d39ca8d8c4d2"
   },
   "outputs": [
    {
     "data": {
      "text/plain": [
       "ItemID\n",
       "1     0.285714\n",
       "2     0.285714\n",
       "3     0.285714\n",
       "4     0.285714\n",
       "5     0.285714\n",
       "6     0.285714\n",
       "7     0.285714\n",
       "8     0.285714\n",
       "9     0.285714\n",
       "10    0.285714\n",
       "11    0.285714\n",
       "12    0.285714\n",
       "13    0.285714\n",
       "14    0.285714\n",
       "15    0.285714\n",
       "16    0.285714\n",
       "17    0.142857\n",
       "18    0.142857\n",
       "19    0.142857\n",
       "20    0.142857\n",
       "dtype: float64"
      ]
     },
     "execution_count": 31,
     "metadata": {},
     "output_type": "execute_result"
    }
   ],
   "source": [
    "# Multiply the genres by the weights and then take the weighted average.\n",
    "\n",
    "recommendation_table_df = (grocery_with_Category.dot(Lawrence_profile)) / Lawrence_profile.sum()\n",
    "\n",
    "# Let's view the recommendation table\n",
    "recommendation_table_df.head(20)"
   ]
  },
  {
   "cell_type": "markdown",
   "metadata": {
    "colab_type": "text",
    "id": "JBWFhl7Zvq6G"
   },
   "source": [
    "Let's sort the recommendation table in descending order"
   ]
  },
  {
   "cell_type": "code",
   "execution_count": 32,
   "metadata": {
    "colab": {
     "base_uri": "https://localhost:8080/",
     "height": 408
    },
    "colab_type": "code",
    "id": "i3ZZlRYvvvoH",
    "outputId": "9ba22607-6b28-4d63-e616-fef1379c0c5e"
   },
   "outputs": [
    {
     "data": {
      "text/plain": [
       "ItemID\n",
       "49    0.571429\n",
       "47    0.571429\n",
       "61    0.571429\n",
       "60    0.571429\n",
       "59    0.571429\n",
       "58    0.571429\n",
       "57    0.571429\n",
       "56    0.571429\n",
       "55    0.571429\n",
       "54    0.571429\n",
       "53    0.571429\n",
       "52    0.571429\n",
       "51    0.571429\n",
       "50    0.571429\n",
       "48    0.571429\n",
       "2     0.285714\n",
       "1     0.285714\n",
       "8     0.285714\n",
       "3     0.285714\n",
       "4     0.285714\n",
       "dtype: float64"
      ]
     },
     "execution_count": 32,
     "metadata": {},
     "output_type": "execute_result"
    }
   ],
   "source": [
    "# Let's sort values from great to small\n",
    "recommendation_table_df.sort_values(ascending=False, inplace=True)\n",
    "\n",
    "#Just a peek at the values\n",
    "recommendation_table_df.head(20)"
   ]
  },
  {
   "cell_type": "markdown",
   "metadata": {
    "colab_type": "text",
    "id": "wJ0RlydGx8Qb"
   },
   "source": [
    "Now here's the recommendation table! Complete with movie details and genres for the top 20 movies that match Lawrence's profile."
   ]
  },
  {
   "cell_type": "code",
   "execution_count": 36,
   "metadata": {
    "colab": {
     "base_uri": "https://localhost:8080/",
     "height": 663
    },
    "colab_type": "code",
    "id": "6D72OXiJ5s3X",
    "outputId": "553a4dea-1c6c-4004-c9a2-ce5123ff7bb2"
   },
   "outputs": [
    {
     "data": {
      "text/html": [
       "<div>\n",
       "<style scoped>\n",
       "    .dataframe tbody tr th:only-of-type {\n",
       "        vertical-align: middle;\n",
       "    }\n",
       "\n",
       "    .dataframe tbody tr th {\n",
       "        vertical-align: top;\n",
       "    }\n",
       "\n",
       "    .dataframe thead th {\n",
       "        text-align: right;\n",
       "    }\n",
       "</style>\n",
       "<table border=\"1\" class=\"dataframe\">\n",
       "  <thead>\n",
       "    <tr style=\"text-align: right;\">\n",
       "      <th></th>\n",
       "      <th>Title</th>\n",
       "      <th>Category</th>\n",
       "    </tr>\n",
       "    <tr>\n",
       "      <th>ItemID</th>\n",
       "      <th></th>\n",
       "      <th></th>\n",
       "    </tr>\n",
       "  </thead>\n",
       "  <tbody>\n",
       "    <tr>\n",
       "      <th>49</th>\n",
       "      <td>Bananas</td>\n",
       "      <td>[Fruits]</td>\n",
       "    </tr>\n",
       "    <tr>\n",
       "      <th>47</th>\n",
       "      <td>Apples</td>\n",
       "      <td>[Fruits]</td>\n",
       "    </tr>\n",
       "    <tr>\n",
       "      <th>61</th>\n",
       "      <td>Plums</td>\n",
       "      <td>[Fruits]</td>\n",
       "    </tr>\n",
       "    <tr>\n",
       "      <th>60</th>\n",
       "      <td>Pears</td>\n",
       "      <td>[Fruits]</td>\n",
       "    </tr>\n",
       "    <tr>\n",
       "      <th>59</th>\n",
       "      <td>Peaches</td>\n",
       "      <td>[Fruits]</td>\n",
       "    </tr>\n",
       "    <tr>\n",
       "      <th>...</th>\n",
       "      <td>...</td>\n",
       "      <td>...</td>\n",
       "    </tr>\n",
       "    <tr>\n",
       "      <th>11</th>\n",
       "      <td>Peppers</td>\n",
       "      <td>[Fresh Vegetables]</td>\n",
       "    </tr>\n",
       "    <tr>\n",
       "      <th>12</th>\n",
       "      <td>Potatoes</td>\n",
       "      <td>[Fresh Vegetables]</td>\n",
       "    </tr>\n",
       "    <tr>\n",
       "      <th>13</th>\n",
       "      <td>Spinach</td>\n",
       "      <td>[Fresh Vegetables]</td>\n",
       "    </tr>\n",
       "    <tr>\n",
       "      <th>14</th>\n",
       "      <td>Squash</td>\n",
       "      <td>[Fresh Vegetables]</td>\n",
       "    </tr>\n",
       "    <tr>\n",
       "      <th>15</th>\n",
       "      <td>Zucchini</td>\n",
       "      <td>[Fresh Vegetables]</td>\n",
       "    </tr>\n",
       "  </tbody>\n",
       "</table>\n",
       "<p>30 rows × 2 columns</p>\n",
       "</div>"
      ],
      "text/plain": [
       "           Title            Category\n",
       "ItemID                              \n",
       "49       Bananas            [Fruits]\n",
       "47        Apples            [Fruits]\n",
       "61         Plums            [Fruits]\n",
       "60         Pears            [Fruits]\n",
       "59       Peaches            [Fruits]\n",
       "...          ...                 ...\n",
       "11       Peppers  [Fresh Vegetables]\n",
       "12      Potatoes  [Fresh Vegetables]\n",
       "13       Spinach  [Fresh Vegetables]\n",
       "14        Squash  [Fresh Vegetables]\n",
       "15      Zucchini  [Fresh Vegetables]\n",
       "\n",
       "[30 rows x 2 columns]"
      ]
     },
     "execution_count": 36,
     "metadata": {},
     "output_type": "execute_result"
    }
   ],
   "source": [
    "# first we make a copy of the original movies_df\n",
    "copy = grocery_df.copy(deep=True)\n",
    "\n",
    "# Then we set its index to movieId\n",
    "copy = copy.set_index('ItemID', drop=True)\n",
    "\n",
    "# Next we enlist the top 20 recommended movieIds we defined above\n",
    "top_20_index = recommendation_table_df.index[:30].tolist()\n",
    "\n",
    "# finally we slice these indices from the copied movies df and save in a variable\n",
    "recommended_movies = copy.loc[top_20_index, :]\n",
    "\n",
    "# Now we can display the top 20 movies in descending order of preference\n",
    "recommended_movies"
   ]
  },
  {
   "cell_type": "code",
   "execution_count": null,
   "metadata": {},
   "outputs": [],
   "source": []
  },
  {
   "cell_type": "code",
   "execution_count": null,
   "metadata": {},
   "outputs": [],
   "source": []
  },
  {
   "cell_type": "markdown",
   "metadata": {
    "colab_type": "text",
    "id": "lobl-cGB-7Hh"
   },
   "source": [
    "Run this cell below to kill the note book and free up space in colab"
   ]
  },
  {
   "cell_type": "code",
   "execution_count": 0,
   "metadata": {
    "colab": {},
    "colab_type": "code",
    "id": "j79kQwct-5uQ"
   },
   "outputs": [],
   "source": [
    "#import os, signal\n",
    "#os.kill(os.getpid(), signal.SIGKILL)"
   ]
  }
 ],
 "metadata": {
  "accelerator": "GPU",
  "colab": {
   "collapsed_sections": [],
   "include_colab_link": true,
   "name": "building_a_content_based_recommendation_system.ipynb",
   "provenance": []
  },
  "kernelspec": {
   "display_name": "Python 3",
   "language": "python",
   "name": "python3"
  },
  "language_info": {
   "codemirror_mode": {
    "name": "ipython",
    "version": 3
   },
   "file_extension": ".py",
   "mimetype": "text/x-python",
   "name": "python",
   "nbconvert_exporter": "python",
   "pygments_lexer": "ipython3",
   "version": "3.8.8"
  }
 },
 "nbformat": 4,
 "nbformat_minor": 1
}
